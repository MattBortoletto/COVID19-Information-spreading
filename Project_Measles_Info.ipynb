{
  "nbformat": 4,
  "nbformat_minor": 0,
  "metadata": {
    "kernelspec": {
      "display_name": "Python 3",
      "language": "python",
      "name": "python3"
    },
    "language_info": {
      "codemirror_mode": {
        "name": "ipython",
        "version": 3
      },
      "file_extension": ".py",
      "mimetype": "text/x-python",
      "name": "python",
      "nbconvert_exporter": "python",
      "pygments_lexer": "ipython3",
      "version": "3.7.6"
    },
    "colab": {
      "name": "Project_Measles_Info.ipynb",
      "provenance": [],
      "collapsed_sections": [],
      "include_colab_link": true
    }
  },
  "cells": [
    {
      "cell_type": "markdown",
      "metadata": {
        "id": "view-in-github",
        "colab_type": "text"
      },
      "source": [
        "<a href=\"https://colab.research.google.com/github/MattBortoletto/Measles-Information-spreading/blob/main/Project_Measles_Info.ipynb\" target=\"_parent\"><img src=\"https://colab.research.google.com/assets/colab-badge.svg\" alt=\"Open In Colab\"/></a>"
      ]
    },
    {
      "cell_type": "markdown",
      "metadata": {
        "id": "oLoqZVwFvgsu"
      },
      "source": [
        "# Life Data Epidemiology \n",
        "\n",
        "## Project: Measles and Info spreading\n",
        "\n",
        "Matteo Bortoletto - 1242935\n",
        "\n",
        "Clelia Corridori - 1230664\n",
        "\n",
        "Michele Puppin - 1227474"
      ]
    },
    {
      "cell_type": "code",
      "metadata": {
        "id": "cOPB0abfvgsv"
      },
      "source": [
        "import pandas as pd\n",
        "import matplotlib.pyplot as plt\n",
        "import random\n",
        "import networkx as nx\n",
        "import numpy as np \n",
        "from joblib import Parallel, delayed"
      ],
      "execution_count": 25,
      "outputs": []
    },
    {
      "cell_type": "markdown",
      "metadata": {
        "id": "0eByXD_Uvgsw"
      },
      "source": [
        "### Define the model"
      ]
    },
    {
      "cell_type": "code",
      "metadata": {
        "id": "1ITbbBtBvgsw"
      },
      "source": [
        "# Erdos and Renyi Graph\n",
        "\n",
        "def er(N,p):\n",
        "   \n",
        "    G = nx.Graph()    \n",
        "    G.add_nodes_from(range(N))    \n",
        "    edges = set()\n",
        "    \n",
        "    for i in range(N):        \n",
        "        for j in range(N):            \n",
        "            if i != j:            \n",
        "                if random.random() < p:                \n",
        "                    edges.add((i,j))\n",
        "    \n",
        "    G.add_edges_from(edges)\n",
        "    \n",
        "    return G"
      ],
      "execution_count": 2,
      "outputs": []
    },
    {
      "cell_type": "code",
      "metadata": {
        "id": "e0eGBpRMvgsx"
      },
      "source": [
        "def SIRV(old_stateA, old_stateB, GB, betaB, gammaB, phi, p):\n",
        "     \n",
        "    new_stateB = old_stateB.copy()\n",
        "    \n",
        "    # Infection phase                \n",
        "    for node in range(len(old_stateB)):\n",
        "                    \n",
        "        if old_stateB[node] == 'IB':\n",
        "        \n",
        "            l = GB.neighbors(node)\n",
        "\n",
        "            for i in l:                \n",
        "                if old_stateB[i] == 'SB':                    \n",
        "                    x = random.random()                    \n",
        "                    if x < betaB:\n",
        "                        new_stateB[i] = 'IB'\n",
        "    \n",
        "    # Recovery phase                \n",
        "    for node in range(len(old_stateB)):\n",
        "        \n",
        "        if old_stateB[node] == 'IB':\n",
        "            x = random.random()\n",
        "            if x < gammaB:\n",
        "                new_stateB[node] = 'RB'\n",
        "                \n",
        "    # Vaccination phase                \n",
        "    for node in range(len(old_stateB)):\n",
        "                    \n",
        "        if (old_stateB[node] == 'SB' and old_stateA[node] == 'IA'):\n",
        "        \n",
        "            l = GB.neighbors(node)\n",
        "            \n",
        "            count = 0\n",
        "            for i in l:                \n",
        "                if old_stateB[i] == 'IB': \n",
        "                    count += 1\n",
        "            if count > phi:\n",
        "                x = random.random()                    \n",
        "                if x < p:\n",
        "                    new_stateB[node] = 'VB'\n",
        "       \n",
        "    return new_stateB"
      ],
      "execution_count": 3,
      "outputs": []
    },
    {
      "cell_type": "code",
      "metadata": {
        "id": "Zabg0Y5Kvgsx"
      },
      "source": [
        "def SIR(old_stateA, old_stateB, GA, betaA, gammaA):\n",
        "    \n",
        "    new_stateA = old_stateA.copy()\n",
        "    \n",
        "    # Infection phase                \n",
        "    for node in range(len(old_stateA)):\n",
        "                    \n",
        "        if old_stateA[node] == 'IA':\n",
        "        \n",
        "            l = GA.neighbors(node)\n",
        "\n",
        "            for i in l:                \n",
        "                if old_stateA[i] == 'SA':                    \n",
        "                    x = random.random()                    \n",
        "                    if x < betaA:\n",
        "                        new_stateA[i] = 'IA'\n",
        "    \n",
        "    # Recovery phase                \n",
        "    for node in range(len(old_stateA)):\n",
        "        \n",
        "        if old_stateA[node] == 'IA':\n",
        "            x = random.random()\n",
        "            if x < gammaA:\n",
        "                new_stateA[node] = 'RA'\n",
        "                \n",
        "     # Information phase                \n",
        "    for node in range(len(old_stateA)):\n",
        "        if (old_stateA[node] == 'SA' and old_stateB[node] == 'IB'):\n",
        "            new_stateA[node] = 'IA'\n",
        "            \n",
        "    return new_stateA"
      ],
      "execution_count": 4,
      "outputs": []
    },
    {
      "cell_type": "code",
      "metadata": {
        "id": "EpmdnOQbvgsx"
      },
      "source": [
        "def propagator(which_out, GA, GB, betaA, gammaA, betaB, gammaB, phi, p, t_max):\n",
        "\n",
        "    dt = 0\n",
        "    \n",
        "    NB = GB.number_of_nodes()\n",
        "    NA = GA.number_of_nodes()\n",
        "    node_labelsB = GB.nodes()\n",
        "    node_labelsA = GA.nodes()\n",
        "    \n",
        "    old_stateA = ['SA' for i in node_labelsA]\n",
        "    old_stateB = ['SB' for i in node_labelsB]\n",
        "   \n",
        "    for i in range(10):\n",
        "        seed = random.choice(range(NB))\n",
        "        old_stateA[seed] = 'IA' \n",
        "        old_stateB[seed] = 'IB' \n",
        "    \n",
        "    if which_out == \"c\":\n",
        "        SA_frac = []\n",
        "        IA_frac = []\n",
        "        RA_frac = []\n",
        "        SB_frac = []\n",
        "        IB_frac = []\n",
        "        RB_frac = []\n",
        "        VB_frac = []\n",
        "        \n",
        "    while dt < t_max:\n",
        "\n",
        "        #print(dt, old_stateA.count('SA'), old_stateA.count('IA'), old_stateA.count('RA'))\n",
        "        #print(dt, old_stateB.count('SB'), old_stateB.count('IB'), old_stateB.count('RB'), old_stateB.count('VB'))\n",
        "        \n",
        "        new_stateA = SIR(old_stateA, old_stateB, GA, betaA, gammaA) \n",
        "        new_stateB = SIRV(old_stateA, old_stateB, GB, betaB, gammaB, phi, p)\n",
        "\n",
        "        old_stateA = new_stateA.copy()\n",
        "        old_stateB = new_stateB.copy()\n",
        "\n",
        "        if which_out == \"c\":\n",
        "            SA_frac.append(new_stateA.count('SA')/NA)\n",
        "            IA_frac.append(new_stateA.count('IA')/NA)\n",
        "            RA_frac.append(new_stateA.count('RA')/NA)\n",
        "            SB_frac.append(new_stateB.count('SB')/NB)\n",
        "            IB_frac.append(new_stateB.count('IB')/NB)\n",
        "            RB_frac.append(new_stateB.count('RB')/NB)\n",
        "            VB_frac.append(new_stateB.count('VB')/NB)\n",
        "\n",
        "        elif which_out == \"f\":\n",
        "            SA_frac = new_stateA.count('SA')/NA\n",
        "            IA_frac = new_stateA.count('IA')/NA\n",
        "            RA_frac = new_stateA.count('RA')/NA\n",
        "            SB_frac = new_stateB.count('SB')/NB\n",
        "            IB_frac = new_stateB.count('IB')/NB\n",
        "            RB_frac = new_stateB.count('RB')/NB\n",
        "            VB_frac = new_stateB.count('VB')/NB\n",
        "\n",
        "        else:\n",
        "            print(\"Not valid option!\")\n",
        "        \n",
        "        dt += 1\n",
        "    \n",
        "    return (SA_frac, IA_frac, RA_frac, SB_frac, IB_frac, RB_frac, VB_frac)"
      ],
      "execution_count": 30,
      "outputs": []
    },
    {
      "cell_type": "code",
      "metadata": {
        "id": "gRrbXfZJvgsx"
      },
      "source": [
        "def mean_degree(G):\n",
        "    k = 0\n",
        "    N = G.number_of_nodes()\n",
        "    for i in range(N):\n",
        "        k += G.degree[i]\n",
        "    k_mean = k/N\n",
        "    \n",
        "    return k_mean   "
      ],
      "execution_count": 6,
      "outputs": []
    },
    {
      "cell_type": "code",
      "metadata": {
        "id": "heqW8-Vqvgs1"
      },
      "source": [
        "def plot_data(res): \n",
        "     \n",
        "    t = [i for i in range(len(res[0]))]\n",
        "\n",
        "    fig, ((ax1, ax2), (ax3, ax4)) = plt.subplots(2, 2, sharey=True, figsize=(10,10))\n",
        "\n",
        "\n",
        "    fig.suptitle('Network A and B')\n",
        "    ax1.plot(t, res[3], label='Network B')\n",
        "    ax2.plot(t, res[4], label='Network B') \n",
        "    ax3.plot(t, res[5], label='Network B')\n",
        "    ax4.plot(t, res[6], label='Network B')\n",
        "\n",
        "    ax1.plot(t, res[0], label='Network A')\n",
        "    ax2.plot(t, res[1], label='Network A') \n",
        "    ax3.plot(t, res[2], label='Network A')\n",
        "\n",
        "    ax1.set_title(\"Susceptible\")\n",
        "    ax2.set_title(\"Infected\")\n",
        "    ax3.set_title(\"Recovered\")\n",
        "    ax4.set_title(\"Vaccined\")\n",
        "\n",
        "    ax1.legend()\n",
        "    ax2.legend()\n",
        "    ax3.legend()\n",
        "    ax4.legend()\n",
        "\n",
        "    plt.show()\n",
        "\n",
        "    return "
      ],
      "execution_count": 7,
      "outputs": []
    },
    {
      "cell_type": "code",
      "metadata": {
        "id": "-jDq-uJcsIBg"
      },
      "source": [
        "def plot_beta(betaA, betaB, RAA, RBA, VBA, RAB, RBB, VBB): \n",
        "\n",
        "    rows, cols = 3, 2\n",
        "    fig, ax = plt.subplots(rows, cols,\n",
        "                           sharex='col', \n",
        "                           sharey='row', \n",
        "                           figsize=(10,10))\n",
        "\n",
        "    ax[0, 0].plot(betaA, RAA)\n",
        "    ax[1, 0].plot(betaA, RBA) \n",
        "    ax[2, 0].plot(betaA, VBA)\n",
        "    ax[0, 1].plot(betaB, RAB)\n",
        "    ax[1, 1].plot(betaB, RBB) \n",
        "    ax[2, 1].plot(betaB, VBB)\n",
        "\n",
        "    #ax[0, 0].set_ylim(0,1)\n",
        "    #ax[1, 0].set_ylim(0,1)\n",
        "    #ax[2, 0].set_ylim(0,1)\n",
        "\n",
        "    ax[0, 0].grid()\n",
        "    ax[1, 0].grid() \n",
        "    ax[2, 0].grid()\n",
        "    ax[0, 1].grid()\n",
        "    ax[1, 1].grid() \n",
        "    ax[2, 1].grid()\n",
        "    \n",
        "    ax[2, 0].set_xlabel(r\"$\\beta_A$\")\n",
        "    ax[2, 1].set_xlabel(r\"$\\beta_B$\")\n",
        "    \n",
        "    ax[0, 0].set_ylabel(r\"$R_A$\")\n",
        "    ax[1, 0].set_ylabel(r\"$R_B$\")\n",
        "    ax[2, 0].set_ylabel(r\"$V_B$\")\n",
        "\n",
        "    plt.show()\n",
        "\n",
        "    return"
      ],
      "execution_count": 71,
      "outputs": []
    },
    {
      "cell_type": "markdown",
      "metadata": {
        "id": "D6vIKnyUvgsx"
      },
      "source": [
        "### Parameters"
      ]
    },
    {
      "cell_type": "code",
      "metadata": {
        "colab": {
          "base_uri": "https://localhost:8080/"
        },
        "id": "bQZa62lrvgsy",
        "outputId": "6fafe377-7cc2-4a38-d660-244a7449b279"
      },
      "source": [
        "N = 10000\n",
        "kB = 8\n",
        "pB = (kB/(N-1))/2\n",
        "GB = er(N,pB)\n",
        "kB_calc = mean_degree(GB)\n",
        "print(kB_calc)"
      ],
      "execution_count": 8,
      "outputs": [
        {
          "output_type": "stream",
          "text": [
            "8.0174\n"
          ],
          "name": "stdout"
        }
      ]
    },
    {
      "cell_type": "code",
      "metadata": {
        "colab": {
          "base_uri": "https://localhost:8080/"
        },
        "id": "V8peF1Ezvgsz",
        "outputId": "84b1a08d-cdca-4fed-c8e8-35abc1c083cf"
      },
      "source": [
        "kA = 8\n",
        "pA = (kA/(N-1))/2\n",
        "GA = er(N,pA)\n",
        "kA_calc = mean_degree(GA)\n",
        "print(kA_calc)"
      ],
      "execution_count": 9,
      "outputs": [
        {
          "output_type": "stream",
          "text": [
            "7.992\n"
          ],
          "name": "stdout"
        }
      ]
    },
    {
      "cell_type": "code",
      "metadata": {
        "id": "NUVWvPwf3g5X"
      },
      "source": [
        "#betaA = 0.5\n",
        "gammaA = 1\n",
        "\n",
        "betaB = 0.5\n",
        "gammaB = 1\n",
        "\n",
        "phi = 2\n",
        "p = 0.8"
      ],
      "execution_count": 10,
      "outputs": []
    },
    {
      "cell_type": "code",
      "metadata": {
        "id": "VOezlQtt2_PB"
      },
      "source": [
        "t_max = 100"
      ],
      "execution_count": 11,
      "outputs": []
    },
    {
      "cell_type": "code",
      "metadata": {
        "scrolled": true,
        "colab": {
          "base_uri": "https://localhost:8080/"
        },
        "id": "A8wAaEabvgs1",
        "outputId": "a1189539-6676-4ccc-e8c2-e8021f1d9a5b"
      },
      "source": [
        "print(\"kA mean:\", kA_calc)\n",
        "print(\"kB mean:\", kB_calc)\n",
        "#print(\"R0A:\", R0A)\n",
        "#print(\"R0B:\", R0B)\n",
        "#print(\"betaA:\", betaA)\n",
        "print(\"betaB:\", betaB)\n",
        "print(\"gammaA:\", gammaA)\n",
        "print(\"gammaB:\", gammaB)"
      ],
      "execution_count": 12,
      "outputs": [
        {
          "output_type": "stream",
          "text": [
            "kA mean: 7.992\n",
            "kB mean: 8.0174\n",
            "betaB: 0.5\n",
            "gammaA: 1\n",
            "gammaB: 1\n"
          ],
          "name": "stdout"
        }
      ]
    },
    {
      "cell_type": "markdown",
      "metadata": {
        "id": "P4-o7WDavgs1"
      },
      "source": [
        "### Run the model"
      ]
    },
    {
      "cell_type": "code",
      "metadata": {
        "colab": {
          "base_uri": "https://localhost:8080/"
        },
        "id": "Q0L1a84svgs1",
        "outputId": "aa7c642c-ce01-49c9-ecc0-ba2c49f552ee"
      },
      "source": [
        "RA_list = []\n",
        "RB_list = [] \n",
        "VB_list = []\n",
        "RA_mean = []\n",
        "RB_mean = []\n",
        "VB_mean = []\n",
        "\n",
        "betaA = np.linspace(0, 1, 100)\n",
        "niterations = 10\n",
        "\n",
        "for i in betaA:\n",
        "    print(\"beta_A:\", i)\n",
        "    #res = propagator(GA, GB, bA, gammaA, betaB, gammaB, phi, p, t_max)\n",
        "    res = Parallel(n_jobs=16, verbose=10)(delayed(propagator)(\"f\", GA, GB, i, gammaA, betaB, gammaB, phi, p, t_max) for j in range(niterations))\n",
        "    df = pd.DataFrame(res, columns=[\"SA\", \"IA\", \"RA\", \"SB\", \"IB\", \"RB\", \"VB\"])\n",
        "    RA_mean.append(df[\"RA\"].mean())\n",
        "    RB_mean.append(df[\"RB\"].mean())\n",
        "    VB_mean.append(df[\"VB\"].mean())"
      ],
      "execution_count": 53,
      "outputs": [
        {
          "output_type": "stream",
          "text": [
            "beta_A: 0.0\n"
          ],
          "name": "stdout"
        },
        {
          "output_type": "stream",
          "text": [
            "[Parallel(n_jobs=16)]: Using backend LokyBackend with 16 concurrent workers.\n",
            "[Parallel(n_jobs=16)]: Done   3 out of  10 | elapsed:    9.7s remaining:   22.7s\n",
            "[Parallel(n_jobs=16)]: Done   5 out of  10 | elapsed:   13.3s remaining:   13.3s\n",
            "[Parallel(n_jobs=16)]: Done   7 out of  10 | elapsed:   16.9s remaining:    7.2s\n",
            "[Parallel(n_jobs=16)]: Done  10 out of  10 | elapsed:   21.6s finished\n",
            "[Parallel(n_jobs=16)]: Using backend LokyBackend with 16 concurrent workers.\n"
          ],
          "name": "stderr"
        },
        {
          "output_type": "stream",
          "text": [
            "beta_A: 0.010101010101010102\n"
          ],
          "name": "stdout"
        },
        {
          "output_type": "stream",
          "text": [
            "[Parallel(n_jobs=16)]: Done   3 out of  10 | elapsed:    6.2s remaining:   14.6s\n",
            "[Parallel(n_jobs=16)]: Done   5 out of  10 | elapsed:    9.8s remaining:    9.8s\n",
            "[Parallel(n_jobs=16)]: Done   7 out of  10 | elapsed:   13.0s remaining:    5.6s\n",
            "[Parallel(n_jobs=16)]: Done  10 out of  10 | elapsed:   17.4s finished\n",
            "[Parallel(n_jobs=16)]: Using backend LokyBackend with 16 concurrent workers.\n"
          ],
          "name": "stderr"
        },
        {
          "output_type": "stream",
          "text": [
            "beta_A: 0.020202020202020204\n"
          ],
          "name": "stdout"
        },
        {
          "output_type": "stream",
          "text": [
            "[Parallel(n_jobs=16)]: Done   3 out of  10 | elapsed:    5.5s remaining:   12.8s\n",
            "[Parallel(n_jobs=16)]: Done   5 out of  10 | elapsed:    8.8s remaining:    8.8s\n",
            "[Parallel(n_jobs=16)]: Done   7 out of  10 | elapsed:   12.0s remaining:    5.1s\n",
            "[Parallel(n_jobs=16)]: Done  10 out of  10 | elapsed:   16.5s finished\n",
            "[Parallel(n_jobs=16)]: Using backend LokyBackend with 16 concurrent workers.\n"
          ],
          "name": "stderr"
        },
        {
          "output_type": "stream",
          "text": [
            "beta_A: 0.030303030303030304\n"
          ],
          "name": "stdout"
        },
        {
          "output_type": "stream",
          "text": [
            "[Parallel(n_jobs=16)]: Done   3 out of  10 | elapsed:    5.6s remaining:   13.0s\n",
            "[Parallel(n_jobs=16)]: Done   5 out of  10 | elapsed:    8.8s remaining:    8.8s\n",
            "[Parallel(n_jobs=16)]: Done   7 out of  10 | elapsed:   12.1s remaining:    5.2s\n",
            "[Parallel(n_jobs=16)]: Done  10 out of  10 | elapsed:   16.6s finished\n",
            "[Parallel(n_jobs=16)]: Using backend LokyBackend with 16 concurrent workers.\n"
          ],
          "name": "stderr"
        },
        {
          "output_type": "stream",
          "text": [
            "beta_A: 0.04040404040404041\n"
          ],
          "name": "stdout"
        },
        {
          "output_type": "stream",
          "text": [
            "[Parallel(n_jobs=16)]: Done   3 out of  10 | elapsed:    5.6s remaining:   13.1s\n",
            "[Parallel(n_jobs=16)]: Done   5 out of  10 | elapsed:    8.7s remaining:    8.7s\n",
            "[Parallel(n_jobs=16)]: Done   7 out of  10 | elapsed:   12.0s remaining:    5.1s\n",
            "[Parallel(n_jobs=16)]: Done  10 out of  10 | elapsed:   16.4s finished\n",
            "[Parallel(n_jobs=16)]: Using backend LokyBackend with 16 concurrent workers.\n"
          ],
          "name": "stderr"
        },
        {
          "output_type": "stream",
          "text": [
            "beta_A: 0.05050505050505051\n"
          ],
          "name": "stdout"
        },
        {
          "output_type": "stream",
          "text": [
            "[Parallel(n_jobs=16)]: Done   3 out of  10 | elapsed:    5.5s remaining:   12.9s\n",
            "[Parallel(n_jobs=16)]: Done   5 out of  10 | elapsed:    8.7s remaining:    8.7s\n",
            "[Parallel(n_jobs=16)]: Done   7 out of  10 | elapsed:   12.1s remaining:    5.2s\n",
            "[Parallel(n_jobs=16)]: Done  10 out of  10 | elapsed:   16.4s finished\n",
            "[Parallel(n_jobs=16)]: Using backend LokyBackend with 16 concurrent workers.\n"
          ],
          "name": "stderr"
        },
        {
          "output_type": "stream",
          "text": [
            "beta_A: 0.06060606060606061\n"
          ],
          "name": "stdout"
        },
        {
          "output_type": "stream",
          "text": [
            "[Parallel(n_jobs=16)]: Done   3 out of  10 | elapsed:    5.4s remaining:   12.6s\n",
            "[Parallel(n_jobs=16)]: Done   5 out of  10 | elapsed:    8.8s remaining:    8.8s\n",
            "[Parallel(n_jobs=16)]: Done   7 out of  10 | elapsed:   12.2s remaining:    5.2s\n",
            "[Parallel(n_jobs=16)]: Done  10 out of  10 | elapsed:   16.5s finished\n",
            "[Parallel(n_jobs=16)]: Using backend LokyBackend with 16 concurrent workers.\n"
          ],
          "name": "stderr"
        },
        {
          "output_type": "stream",
          "text": [
            "beta_A: 0.07070707070707072\n"
          ],
          "name": "stdout"
        },
        {
          "output_type": "stream",
          "text": [
            "[Parallel(n_jobs=16)]: Done   3 out of  10 | elapsed:    5.8s remaining:   13.5s\n",
            "[Parallel(n_jobs=16)]: Done   5 out of  10 | elapsed:    9.3s remaining:    9.3s\n",
            "[Parallel(n_jobs=16)]: Done   7 out of  10 | elapsed:   12.7s remaining:    5.4s\n",
            "[Parallel(n_jobs=16)]: Done  10 out of  10 | elapsed:   17.1s finished\n",
            "[Parallel(n_jobs=16)]: Using backend LokyBackend with 16 concurrent workers.\n"
          ],
          "name": "stderr"
        },
        {
          "output_type": "stream",
          "text": [
            "beta_A: 0.08080808080808081\n"
          ],
          "name": "stdout"
        },
        {
          "output_type": "stream",
          "text": [
            "[Parallel(n_jobs=16)]: Done   3 out of  10 | elapsed:    5.6s remaining:   13.0s\n",
            "[Parallel(n_jobs=16)]: Done   5 out of  10 | elapsed:    8.9s remaining:    8.9s\n",
            "[Parallel(n_jobs=16)]: Done   7 out of  10 | elapsed:   12.1s remaining:    5.2s\n",
            "[Parallel(n_jobs=16)]: Done  10 out of  10 | elapsed:   16.5s finished\n",
            "[Parallel(n_jobs=16)]: Using backend LokyBackend with 16 concurrent workers.\n"
          ],
          "name": "stderr"
        },
        {
          "output_type": "stream",
          "text": [
            "beta_A: 0.09090909090909091\n"
          ],
          "name": "stdout"
        },
        {
          "output_type": "stream",
          "text": [
            "[Parallel(n_jobs=16)]: Done   3 out of  10 | elapsed:    5.6s remaining:   13.0s\n",
            "[Parallel(n_jobs=16)]: Done   5 out of  10 | elapsed:    8.9s remaining:    8.9s\n",
            "[Parallel(n_jobs=16)]: Done   7 out of  10 | elapsed:   12.1s remaining:    5.2s\n",
            "[Parallel(n_jobs=16)]: Done  10 out of  10 | elapsed:   16.5s finished\n",
            "[Parallel(n_jobs=16)]: Using backend LokyBackend with 16 concurrent workers.\n"
          ],
          "name": "stderr"
        },
        {
          "output_type": "stream",
          "text": [
            "beta_A: 0.10101010101010102\n"
          ],
          "name": "stdout"
        },
        {
          "output_type": "stream",
          "text": [
            "[Parallel(n_jobs=16)]: Done   3 out of  10 | elapsed:    5.6s remaining:   13.1s\n",
            "[Parallel(n_jobs=16)]: Done   5 out of  10 | elapsed:    8.8s remaining:    8.8s\n",
            "[Parallel(n_jobs=16)]: Done   7 out of  10 | elapsed:   12.2s remaining:    5.2s\n",
            "[Parallel(n_jobs=16)]: Done  10 out of  10 | elapsed:   16.6s finished\n",
            "[Parallel(n_jobs=16)]: Using backend LokyBackend with 16 concurrent workers.\n"
          ],
          "name": "stderr"
        },
        {
          "output_type": "stream",
          "text": [
            "beta_A: 0.11111111111111112\n"
          ],
          "name": "stdout"
        },
        {
          "output_type": "stream",
          "text": [
            "[Parallel(n_jobs=16)]: Done   3 out of  10 | elapsed:    5.6s remaining:   13.1s\n",
            "[Parallel(n_jobs=16)]: Done   5 out of  10 | elapsed:    8.7s remaining:    8.7s\n",
            "[Parallel(n_jobs=16)]: Done   7 out of  10 | elapsed:   12.0s remaining:    5.2s\n",
            "[Parallel(n_jobs=16)]: Done  10 out of  10 | elapsed:   16.4s finished\n",
            "[Parallel(n_jobs=16)]: Using backend LokyBackend with 16 concurrent workers.\n"
          ],
          "name": "stderr"
        },
        {
          "output_type": "stream",
          "text": [
            "beta_A: 0.12121212121212122\n"
          ],
          "name": "stdout"
        },
        {
          "output_type": "stream",
          "text": [
            "[Parallel(n_jobs=16)]: Done   3 out of  10 | elapsed:    5.6s remaining:   13.0s\n",
            "[Parallel(n_jobs=16)]: Done   5 out of  10 | elapsed:    8.8s remaining:    8.8s\n",
            "[Parallel(n_jobs=16)]: Done   7 out of  10 | elapsed:   12.1s remaining:    5.2s\n",
            "[Parallel(n_jobs=16)]: Done  10 out of  10 | elapsed:   16.4s finished\n",
            "[Parallel(n_jobs=16)]: Using backend LokyBackend with 16 concurrent workers.\n"
          ],
          "name": "stderr"
        },
        {
          "output_type": "stream",
          "text": [
            "beta_A: 0.13131313131313133\n"
          ],
          "name": "stdout"
        },
        {
          "output_type": "stream",
          "text": [
            "[Parallel(n_jobs=16)]: Done   3 out of  10 | elapsed:    5.6s remaining:   13.1s\n",
            "[Parallel(n_jobs=16)]: Done   5 out of  10 | elapsed:    9.1s remaining:    9.1s\n",
            "[Parallel(n_jobs=16)]: Done   7 out of  10 | elapsed:   12.4s remaining:    5.3s\n",
            "[Parallel(n_jobs=16)]: Done  10 out of  10 | elapsed:   16.8s finished\n",
            "[Parallel(n_jobs=16)]: Using backend LokyBackend with 16 concurrent workers.\n"
          ],
          "name": "stderr"
        },
        {
          "output_type": "stream",
          "text": [
            "beta_A: 0.14141414141414144\n"
          ],
          "name": "stdout"
        },
        {
          "output_type": "stream",
          "text": [
            "[Parallel(n_jobs=16)]: Done   3 out of  10 | elapsed:    5.6s remaining:   13.0s\n",
            "[Parallel(n_jobs=16)]: Done   5 out of  10 | elapsed:    9.0s remaining:    9.0s\n",
            "[Parallel(n_jobs=16)]: Done   7 out of  10 | elapsed:   12.1s remaining:    5.2s\n",
            "[Parallel(n_jobs=16)]: Done  10 out of  10 | elapsed:   16.5s finished\n",
            "[Parallel(n_jobs=16)]: Using backend LokyBackend with 16 concurrent workers.\n"
          ],
          "name": "stderr"
        },
        {
          "output_type": "stream",
          "text": [
            "beta_A: 0.15151515151515152\n"
          ],
          "name": "stdout"
        },
        {
          "output_type": "stream",
          "text": [
            "[Parallel(n_jobs=16)]: Done   3 out of  10 | elapsed:    5.6s remaining:   13.0s\n",
            "[Parallel(n_jobs=16)]: Done   5 out of  10 | elapsed:    8.9s remaining:    8.9s\n",
            "[Parallel(n_jobs=16)]: Done   7 out of  10 | elapsed:   12.0s remaining:    5.1s\n",
            "[Parallel(n_jobs=16)]: Done  10 out of  10 | elapsed:   16.4s finished\n",
            "[Parallel(n_jobs=16)]: Using backend LokyBackend with 16 concurrent workers.\n"
          ],
          "name": "stderr"
        },
        {
          "output_type": "stream",
          "text": [
            "beta_A: 0.16161616161616163\n"
          ],
          "name": "stdout"
        },
        {
          "output_type": "stream",
          "text": [
            "[Parallel(n_jobs=16)]: Done   3 out of  10 | elapsed:    5.5s remaining:   12.9s\n",
            "[Parallel(n_jobs=16)]: Done   5 out of  10 | elapsed:    8.8s remaining:    8.8s\n",
            "[Parallel(n_jobs=16)]: Done   7 out of  10 | elapsed:   12.0s remaining:    5.2s\n",
            "[Parallel(n_jobs=16)]: Done  10 out of  10 | elapsed:   16.4s finished\n",
            "[Parallel(n_jobs=16)]: Using backend LokyBackend with 16 concurrent workers.\n"
          ],
          "name": "stderr"
        },
        {
          "output_type": "stream",
          "text": [
            "beta_A: 0.17171717171717174\n"
          ],
          "name": "stdout"
        },
        {
          "output_type": "stream",
          "text": [
            "[Parallel(n_jobs=16)]: Done   3 out of  10 | elapsed:    5.5s remaining:   12.9s\n",
            "[Parallel(n_jobs=16)]: Done   5 out of  10 | elapsed:    8.8s remaining:    8.8s\n",
            "[Parallel(n_jobs=16)]: Done   7 out of  10 | elapsed:   12.1s remaining:    5.2s\n",
            "[Parallel(n_jobs=16)]: Done  10 out of  10 | elapsed:   16.5s finished\n",
            "[Parallel(n_jobs=16)]: Using backend LokyBackend with 16 concurrent workers.\n"
          ],
          "name": "stderr"
        },
        {
          "output_type": "stream",
          "text": [
            "beta_A: 0.18181818181818182\n"
          ],
          "name": "stdout"
        },
        {
          "output_type": "stream",
          "text": [
            "[Parallel(n_jobs=16)]: Done   3 out of  10 | elapsed:    5.6s remaining:   13.0s\n",
            "[Parallel(n_jobs=16)]: Done   5 out of  10 | elapsed:    8.7s remaining:    8.7s\n",
            "[Parallel(n_jobs=16)]: Done   7 out of  10 | elapsed:   12.0s remaining:    5.1s\n",
            "[Parallel(n_jobs=16)]: Done  10 out of  10 | elapsed:   16.3s finished\n",
            "[Parallel(n_jobs=16)]: Using backend LokyBackend with 16 concurrent workers.\n"
          ],
          "name": "stderr"
        },
        {
          "output_type": "stream",
          "text": [
            "beta_A: 0.19191919191919193\n"
          ],
          "name": "stdout"
        },
        {
          "output_type": "stream",
          "text": [
            "[Parallel(n_jobs=16)]: Done   3 out of  10 | elapsed:    5.5s remaining:   12.8s\n",
            "[Parallel(n_jobs=16)]: Done   5 out of  10 | elapsed:    8.7s remaining:    8.7s\n",
            "[Parallel(n_jobs=16)]: Done   7 out of  10 | elapsed:   12.1s remaining:    5.2s\n",
            "[Parallel(n_jobs=16)]: Done  10 out of  10 | elapsed:   16.5s finished\n",
            "[Parallel(n_jobs=16)]: Using backend LokyBackend with 16 concurrent workers.\n"
          ],
          "name": "stderr"
        },
        {
          "output_type": "stream",
          "text": [
            "beta_A: 0.20202020202020204\n"
          ],
          "name": "stdout"
        },
        {
          "output_type": "stream",
          "text": [
            "[Parallel(n_jobs=16)]: Done   3 out of  10 | elapsed:    5.5s remaining:   12.8s\n",
            "[Parallel(n_jobs=16)]: Done   5 out of  10 | elapsed:    8.8s remaining:    8.8s\n",
            "[Parallel(n_jobs=16)]: Done   7 out of  10 | elapsed:   12.0s remaining:    5.2s\n",
            "[Parallel(n_jobs=16)]: Done  10 out of  10 | elapsed:   16.3s finished\n",
            "[Parallel(n_jobs=16)]: Using backend LokyBackend with 16 concurrent workers.\n"
          ],
          "name": "stderr"
        },
        {
          "output_type": "stream",
          "text": [
            "beta_A: 0.21212121212121213\n"
          ],
          "name": "stdout"
        },
        {
          "output_type": "stream",
          "text": [
            "[Parallel(n_jobs=16)]: Done   3 out of  10 | elapsed:    5.6s remaining:   13.0s\n",
            "[Parallel(n_jobs=16)]: Done   5 out of  10 | elapsed:    8.9s remaining:    8.9s\n",
            "[Parallel(n_jobs=16)]: Done   7 out of  10 | elapsed:   12.1s remaining:    5.2s\n",
            "[Parallel(n_jobs=16)]: Done  10 out of  10 | elapsed:   16.4s finished\n",
            "[Parallel(n_jobs=16)]: Using backend LokyBackend with 16 concurrent workers.\n"
          ],
          "name": "stderr"
        },
        {
          "output_type": "stream",
          "text": [
            "beta_A: 0.22222222222222224\n"
          ],
          "name": "stdout"
        },
        {
          "output_type": "stream",
          "text": [
            "[Parallel(n_jobs=16)]: Done   3 out of  10 | elapsed:    5.5s remaining:   12.8s\n",
            "[Parallel(n_jobs=16)]: Done   5 out of  10 | elapsed:    8.9s remaining:    8.9s\n",
            "[Parallel(n_jobs=16)]: Done   7 out of  10 | elapsed:   12.0s remaining:    5.1s\n",
            "[Parallel(n_jobs=16)]: Done  10 out of  10 | elapsed:   16.4s finished\n",
            "[Parallel(n_jobs=16)]: Using backend LokyBackend with 16 concurrent workers.\n"
          ],
          "name": "stderr"
        },
        {
          "output_type": "stream",
          "text": [
            "beta_A: 0.23232323232323235\n"
          ],
          "name": "stdout"
        },
        {
          "output_type": "stream",
          "text": [
            "[Parallel(n_jobs=16)]: Done   3 out of  10 | elapsed:    5.5s remaining:   12.8s\n",
            "[Parallel(n_jobs=16)]: Done   5 out of  10 | elapsed:    8.9s remaining:    8.9s\n",
            "[Parallel(n_jobs=16)]: Done   7 out of  10 | elapsed:   12.0s remaining:    5.1s\n",
            "[Parallel(n_jobs=16)]: Done  10 out of  10 | elapsed:   16.4s finished\n",
            "[Parallel(n_jobs=16)]: Using backend LokyBackend with 16 concurrent workers.\n"
          ],
          "name": "stderr"
        },
        {
          "output_type": "stream",
          "text": [
            "beta_A: 0.24242424242424243\n"
          ],
          "name": "stdout"
        },
        {
          "output_type": "stream",
          "text": [
            "[Parallel(n_jobs=16)]: Done   3 out of  10 | elapsed:    5.6s remaining:   13.0s\n",
            "[Parallel(n_jobs=16)]: Done   5 out of  10 | elapsed:    8.8s remaining:    8.8s\n",
            "[Parallel(n_jobs=16)]: Done   7 out of  10 | elapsed:   12.1s remaining:    5.2s\n",
            "[Parallel(n_jobs=16)]: Done  10 out of  10 | elapsed:   16.5s finished\n",
            "[Parallel(n_jobs=16)]: Using backend LokyBackend with 16 concurrent workers.\n"
          ],
          "name": "stderr"
        },
        {
          "output_type": "stream",
          "text": [
            "beta_A: 0.25252525252525254\n"
          ],
          "name": "stdout"
        },
        {
          "output_type": "stream",
          "text": [
            "[Parallel(n_jobs=16)]: Done   3 out of  10 | elapsed:    5.6s remaining:   13.0s\n",
            "[Parallel(n_jobs=16)]: Done   5 out of  10 | elapsed:    8.7s remaining:    8.7s\n",
            "[Parallel(n_jobs=16)]: Done   7 out of  10 | elapsed:   12.1s remaining:    5.2s\n",
            "[Parallel(n_jobs=16)]: Done  10 out of  10 | elapsed:   16.5s finished\n",
            "[Parallel(n_jobs=16)]: Using backend LokyBackend with 16 concurrent workers.\n"
          ],
          "name": "stderr"
        },
        {
          "output_type": "stream",
          "text": [
            "beta_A: 0.26262626262626265\n"
          ],
          "name": "stdout"
        },
        {
          "output_type": "stream",
          "text": [
            "[Parallel(n_jobs=16)]: Done   3 out of  10 | elapsed:    5.7s remaining:   13.2s\n",
            "[Parallel(n_jobs=16)]: Done   5 out of  10 | elapsed:    8.9s remaining:    8.9s\n",
            "[Parallel(n_jobs=16)]: Done   7 out of  10 | elapsed:   12.3s remaining:    5.3s\n",
            "[Parallel(n_jobs=16)]: Done  10 out of  10 | elapsed:   16.6s finished\n",
            "[Parallel(n_jobs=16)]: Using backend LokyBackend with 16 concurrent workers.\n"
          ],
          "name": "stderr"
        },
        {
          "output_type": "stream",
          "text": [
            "beta_A: 0.27272727272727276\n"
          ],
          "name": "stdout"
        },
        {
          "output_type": "stream",
          "text": [
            "[Parallel(n_jobs=16)]: Done   3 out of  10 | elapsed:    5.5s remaining:   12.8s\n",
            "[Parallel(n_jobs=16)]: Done   5 out of  10 | elapsed:    8.7s remaining:    8.7s\n",
            "[Parallel(n_jobs=16)]: Done   7 out of  10 | elapsed:   12.1s remaining:    5.2s\n",
            "[Parallel(n_jobs=16)]: Done  10 out of  10 | elapsed:   16.4s finished\n",
            "[Parallel(n_jobs=16)]: Using backend LokyBackend with 16 concurrent workers.\n"
          ],
          "name": "stderr"
        },
        {
          "output_type": "stream",
          "text": [
            "beta_A: 0.2828282828282829\n"
          ],
          "name": "stdout"
        },
        {
          "output_type": "stream",
          "text": [
            "[Parallel(n_jobs=16)]: Done   3 out of  10 | elapsed:    5.6s remaining:   13.0s\n",
            "[Parallel(n_jobs=16)]: Done   5 out of  10 | elapsed:    8.9s remaining:    8.9s\n",
            "[Parallel(n_jobs=16)]: Done   7 out of  10 | elapsed:   12.1s remaining:    5.2s\n",
            "[Parallel(n_jobs=16)]: Done  10 out of  10 | elapsed:   16.5s finished\n",
            "[Parallel(n_jobs=16)]: Using backend LokyBackend with 16 concurrent workers.\n"
          ],
          "name": "stderr"
        },
        {
          "output_type": "stream",
          "text": [
            "beta_A: 0.29292929292929293\n"
          ],
          "name": "stdout"
        },
        {
          "output_type": "stream",
          "text": [
            "[Parallel(n_jobs=16)]: Done   3 out of  10 | elapsed:    5.5s remaining:   12.9s\n",
            "[Parallel(n_jobs=16)]: Done   5 out of  10 | elapsed:    8.9s remaining:    8.9s\n",
            "[Parallel(n_jobs=16)]: Done   7 out of  10 | elapsed:   12.0s remaining:    5.2s\n",
            "[Parallel(n_jobs=16)]: Done  10 out of  10 | elapsed:   16.4s finished\n",
            "[Parallel(n_jobs=16)]: Using backend LokyBackend with 16 concurrent workers.\n"
          ],
          "name": "stderr"
        },
        {
          "output_type": "stream",
          "text": [
            "beta_A: 0.30303030303030304\n"
          ],
          "name": "stdout"
        },
        {
          "output_type": "stream",
          "text": [
            "[Parallel(n_jobs=16)]: Done   3 out of  10 | elapsed:    5.5s remaining:   12.8s\n",
            "[Parallel(n_jobs=16)]: Done   5 out of  10 | elapsed:    8.8s remaining:    8.8s\n",
            "[Parallel(n_jobs=16)]: Done   7 out of  10 | elapsed:   11.9s remaining:    5.1s\n",
            "[Parallel(n_jobs=16)]: Done  10 out of  10 | elapsed:   16.3s finished\n",
            "[Parallel(n_jobs=16)]: Using backend LokyBackend with 16 concurrent workers.\n"
          ],
          "name": "stderr"
        },
        {
          "output_type": "stream",
          "text": [
            "beta_A: 0.31313131313131315\n"
          ],
          "name": "stdout"
        },
        {
          "output_type": "stream",
          "text": [
            "[Parallel(n_jobs=16)]: Done   3 out of  10 | elapsed:    5.5s remaining:   12.9s\n",
            "[Parallel(n_jobs=16)]: Done   5 out of  10 | elapsed:    8.8s remaining:    8.8s\n",
            "[Parallel(n_jobs=16)]: Done   7 out of  10 | elapsed:   12.0s remaining:    5.1s\n",
            "[Parallel(n_jobs=16)]: Done  10 out of  10 | elapsed:   16.4s finished\n",
            "[Parallel(n_jobs=16)]: Using backend LokyBackend with 16 concurrent workers.\n"
          ],
          "name": "stderr"
        },
        {
          "output_type": "stream",
          "text": [
            "beta_A: 0.32323232323232326\n"
          ],
          "name": "stdout"
        },
        {
          "output_type": "stream",
          "text": [
            "[Parallel(n_jobs=16)]: Done   3 out of  10 | elapsed:    5.6s remaining:   13.0s\n",
            "[Parallel(n_jobs=16)]: Done   5 out of  10 | elapsed:    8.7s remaining:    8.7s\n",
            "[Parallel(n_jobs=16)]: Done   7 out of  10 | elapsed:   12.0s remaining:    5.1s\n",
            "[Parallel(n_jobs=16)]: Done  10 out of  10 | elapsed:   16.4s finished\n",
            "[Parallel(n_jobs=16)]: Using backend LokyBackend with 16 concurrent workers.\n"
          ],
          "name": "stderr"
        },
        {
          "output_type": "stream",
          "text": [
            "beta_A: 0.33333333333333337\n"
          ],
          "name": "stdout"
        },
        {
          "output_type": "stream",
          "text": [
            "[Parallel(n_jobs=16)]: Done   3 out of  10 | elapsed:    9.6s remaining:   22.4s\n",
            "[Parallel(n_jobs=16)]: Done   5 out of  10 | elapsed:   12.8s remaining:   12.8s\n",
            "[Parallel(n_jobs=16)]: Done   7 out of  10 | elapsed:   16.1s remaining:    6.9s\n",
            "[Parallel(n_jobs=16)]: Done  10 out of  10 | elapsed:   20.5s finished\n",
            "[Parallel(n_jobs=16)]: Using backend LokyBackend with 16 concurrent workers.\n"
          ],
          "name": "stderr"
        },
        {
          "output_type": "stream",
          "text": [
            "beta_A: 0.3434343434343435\n"
          ],
          "name": "stdout"
        },
        {
          "output_type": "stream",
          "text": [
            "[Parallel(n_jobs=16)]: Done   3 out of  10 | elapsed:    5.5s remaining:   12.8s\n",
            "[Parallel(n_jobs=16)]: Done   5 out of  10 | elapsed:    8.8s remaining:    8.8s\n",
            "[Parallel(n_jobs=16)]: Done   7 out of  10 | elapsed:   12.2s remaining:    5.2s\n",
            "[Parallel(n_jobs=16)]: Done  10 out of  10 | elapsed:   16.5s finished\n",
            "[Parallel(n_jobs=16)]: Using backend LokyBackend with 16 concurrent workers.\n"
          ],
          "name": "stderr"
        },
        {
          "output_type": "stream",
          "text": [
            "beta_A: 0.3535353535353536\n"
          ],
          "name": "stdout"
        },
        {
          "output_type": "stream",
          "text": [
            "[Parallel(n_jobs=16)]: Done   3 out of  10 | elapsed:    5.5s remaining:   12.9s\n",
            "[Parallel(n_jobs=16)]: Done   5 out of  10 | elapsed:    8.9s remaining:    8.9s\n",
            "[Parallel(n_jobs=16)]: Done   7 out of  10 | elapsed:   12.1s remaining:    5.2s\n",
            "[Parallel(n_jobs=16)]: Done  10 out of  10 | elapsed:   16.5s finished\n",
            "[Parallel(n_jobs=16)]: Using backend LokyBackend with 16 concurrent workers.\n"
          ],
          "name": "stderr"
        },
        {
          "output_type": "stream",
          "text": [
            "beta_A: 0.36363636363636365\n"
          ],
          "name": "stdout"
        },
        {
          "output_type": "stream",
          "text": [
            "[Parallel(n_jobs=16)]: Done   3 out of  10 | elapsed:    5.6s remaining:   13.1s\n",
            "[Parallel(n_jobs=16)]: Done   5 out of  10 | elapsed:    9.0s remaining:    9.0s\n",
            "[Parallel(n_jobs=16)]: Done   7 out of  10 | elapsed:   12.1s remaining:    5.2s\n",
            "[Parallel(n_jobs=16)]: Done  10 out of  10 | elapsed:   16.6s finished\n",
            "[Parallel(n_jobs=16)]: Using backend LokyBackend with 16 concurrent workers.\n"
          ],
          "name": "stderr"
        },
        {
          "output_type": "stream",
          "text": [
            "beta_A: 0.37373737373737376\n"
          ],
          "name": "stdout"
        },
        {
          "output_type": "stream",
          "text": [
            "[Parallel(n_jobs=16)]: Done   3 out of  10 | elapsed:    5.6s remaining:   13.0s\n",
            "[Parallel(n_jobs=16)]: Done   5 out of  10 | elapsed:    8.9s remaining:    8.9s\n",
            "[Parallel(n_jobs=16)]: Done   7 out of  10 | elapsed:   12.2s remaining:    5.2s\n",
            "[Parallel(n_jobs=16)]: Done  10 out of  10 | elapsed:   16.5s finished\n",
            "[Parallel(n_jobs=16)]: Using backend LokyBackend with 16 concurrent workers.\n"
          ],
          "name": "stderr"
        },
        {
          "output_type": "stream",
          "text": [
            "beta_A: 0.38383838383838387\n"
          ],
          "name": "stdout"
        },
        {
          "output_type": "stream",
          "text": [
            "[Parallel(n_jobs=16)]: Done   3 out of  10 | elapsed:    5.6s remaining:   13.1s\n",
            "[Parallel(n_jobs=16)]: Done   5 out of  10 | elapsed:    8.8s remaining:    8.8s\n",
            "[Parallel(n_jobs=16)]: Done   7 out of  10 | elapsed:   12.1s remaining:    5.2s\n",
            "[Parallel(n_jobs=16)]: Done  10 out of  10 | elapsed:   16.5s finished\n",
            "[Parallel(n_jobs=16)]: Using backend LokyBackend with 16 concurrent workers.\n"
          ],
          "name": "stderr"
        },
        {
          "output_type": "stream",
          "text": [
            "beta_A: 0.393939393939394\n"
          ],
          "name": "stdout"
        },
        {
          "output_type": "stream",
          "text": [
            "[Parallel(n_jobs=16)]: Done   3 out of  10 | elapsed:    5.6s remaining:   13.1s\n",
            "[Parallel(n_jobs=16)]: Done   5 out of  10 | elapsed:    8.7s remaining:    8.7s\n",
            "[Parallel(n_jobs=16)]: Done   7 out of  10 | elapsed:   12.1s remaining:    5.2s\n",
            "[Parallel(n_jobs=16)]: Done  10 out of  10 | elapsed:   16.5s finished\n",
            "[Parallel(n_jobs=16)]: Using backend LokyBackend with 16 concurrent workers.\n"
          ],
          "name": "stderr"
        },
        {
          "output_type": "stream",
          "text": [
            "beta_A: 0.4040404040404041\n"
          ],
          "name": "stdout"
        },
        {
          "output_type": "stream",
          "text": [
            "[Parallel(n_jobs=16)]: Done   3 out of  10 | elapsed:    5.6s remaining:   13.1s\n",
            "[Parallel(n_jobs=16)]: Done   5 out of  10 | elapsed:    8.9s remaining:    8.9s\n",
            "[Parallel(n_jobs=16)]: Done   7 out of  10 | elapsed:   12.3s remaining:    5.3s\n",
            "[Parallel(n_jobs=16)]: Done  10 out of  10 | elapsed:   16.7s finished\n",
            "[Parallel(n_jobs=16)]: Using backend LokyBackend with 16 concurrent workers.\n"
          ],
          "name": "stderr"
        },
        {
          "output_type": "stream",
          "text": [
            "beta_A: 0.4141414141414142\n"
          ],
          "name": "stdout"
        },
        {
          "output_type": "stream",
          "text": [
            "[Parallel(n_jobs=16)]: Done   3 out of  10 | elapsed:    5.6s remaining:   13.0s\n",
            "[Parallel(n_jobs=16)]: Done   5 out of  10 | elapsed:    8.9s remaining:    8.9s\n",
            "[Parallel(n_jobs=16)]: Done   7 out of  10 | elapsed:   12.2s remaining:    5.2s\n",
            "[Parallel(n_jobs=16)]: Done  10 out of  10 | elapsed:   16.5s finished\n",
            "[Parallel(n_jobs=16)]: Using backend LokyBackend with 16 concurrent workers.\n"
          ],
          "name": "stderr"
        },
        {
          "output_type": "stream",
          "text": [
            "beta_A: 0.42424242424242425\n"
          ],
          "name": "stdout"
        },
        {
          "output_type": "stream",
          "text": [
            "[Parallel(n_jobs=16)]: Done   3 out of  10 | elapsed:    5.5s remaining:   12.9s\n",
            "[Parallel(n_jobs=16)]: Done   5 out of  10 | elapsed:    8.9s remaining:    8.9s\n",
            "[Parallel(n_jobs=16)]: Done   7 out of  10 | elapsed:   12.1s remaining:    5.2s\n",
            "[Parallel(n_jobs=16)]: Done  10 out of  10 | elapsed:   16.5s finished\n",
            "[Parallel(n_jobs=16)]: Using backend LokyBackend with 16 concurrent workers.\n"
          ],
          "name": "stderr"
        },
        {
          "output_type": "stream",
          "text": [
            "beta_A: 0.43434343434343436\n"
          ],
          "name": "stdout"
        },
        {
          "output_type": "stream",
          "text": [
            "[Parallel(n_jobs=16)]: Done   3 out of  10 | elapsed:    5.6s remaining:   13.0s\n",
            "[Parallel(n_jobs=16)]: Done   5 out of  10 | elapsed:    8.9s remaining:    8.9s\n",
            "[Parallel(n_jobs=16)]: Done   7 out of  10 | elapsed:   12.1s remaining:    5.2s\n",
            "[Parallel(n_jobs=16)]: Done  10 out of  10 | elapsed:   17.4s finished\n",
            "[Parallel(n_jobs=16)]: Using backend LokyBackend with 16 concurrent workers.\n"
          ],
          "name": "stderr"
        },
        {
          "output_type": "stream",
          "text": [
            "beta_A: 0.4444444444444445\n"
          ],
          "name": "stdout"
        },
        {
          "output_type": "stream",
          "text": [
            "[Parallel(n_jobs=16)]: Done   3 out of  10 | elapsed:    5.6s remaining:   13.2s\n",
            "[Parallel(n_jobs=16)]: Done   5 out of  10 | elapsed:    9.0s remaining:    9.0s\n",
            "[Parallel(n_jobs=16)]: Done   7 out of  10 | elapsed:   12.3s remaining:    5.3s\n",
            "[Parallel(n_jobs=16)]: Done  10 out of  10 | elapsed:   17.4s finished\n",
            "[Parallel(n_jobs=16)]: Using backend LokyBackend with 16 concurrent workers.\n"
          ],
          "name": "stderr"
        },
        {
          "output_type": "stream",
          "text": [
            "beta_A: 0.4545454545454546\n"
          ],
          "name": "stdout"
        },
        {
          "output_type": "stream",
          "text": [
            "[Parallel(n_jobs=16)]: Done   3 out of  10 | elapsed:    6.0s remaining:   13.9s\n",
            "[Parallel(n_jobs=16)]: Done   5 out of  10 | elapsed:    9.3s remaining:    9.3s\n",
            "[Parallel(n_jobs=16)]: Done   7 out of  10 | elapsed:   12.7s remaining:    5.4s\n",
            "[Parallel(n_jobs=16)]: Done  10 out of  10 | elapsed:   17.3s finished\n",
            "[Parallel(n_jobs=16)]: Using backend LokyBackend with 16 concurrent workers.\n"
          ],
          "name": "stderr"
        },
        {
          "output_type": "stream",
          "text": [
            "beta_A: 0.4646464646464647\n"
          ],
          "name": "stdout"
        },
        {
          "output_type": "stream",
          "text": [
            "[Parallel(n_jobs=16)]: Done   3 out of  10 | elapsed:    5.6s remaining:   13.1s\n",
            "[Parallel(n_jobs=16)]: Done   5 out of  10 | elapsed:    8.8s remaining:    8.8s\n",
            "[Parallel(n_jobs=16)]: Done   7 out of  10 | elapsed:   12.2s remaining:    5.2s\n",
            "[Parallel(n_jobs=16)]: Done  10 out of  10 | elapsed:   16.7s finished\n",
            "[Parallel(n_jobs=16)]: Using backend LokyBackend with 16 concurrent workers.\n"
          ],
          "name": "stderr"
        },
        {
          "output_type": "stream",
          "text": [
            "beta_A: 0.4747474747474748\n"
          ],
          "name": "stdout"
        },
        {
          "output_type": "stream",
          "text": [
            "[Parallel(n_jobs=16)]: Done   3 out of  10 | elapsed:    5.6s remaining:   13.1s\n",
            "[Parallel(n_jobs=16)]: Done   5 out of  10 | elapsed:    8.9s remaining:    8.9s\n",
            "[Parallel(n_jobs=16)]: Done   7 out of  10 | elapsed:   12.3s remaining:    5.3s\n",
            "[Parallel(n_jobs=16)]: Done  10 out of  10 | elapsed:   16.6s finished\n",
            "[Parallel(n_jobs=16)]: Using backend LokyBackend with 16 concurrent workers.\n"
          ],
          "name": "stderr"
        },
        {
          "output_type": "stream",
          "text": [
            "beta_A: 0.48484848484848486\n"
          ],
          "name": "stdout"
        },
        {
          "output_type": "stream",
          "text": [
            "[Parallel(n_jobs=16)]: Done   3 out of  10 | elapsed:    5.6s remaining:   13.0s\n",
            "[Parallel(n_jobs=16)]: Done   5 out of  10 | elapsed:    8.9s remaining:    8.9s\n",
            "[Parallel(n_jobs=16)]: Done   7 out of  10 | elapsed:   12.3s remaining:    5.3s\n",
            "[Parallel(n_jobs=16)]: Done  10 out of  10 | elapsed:   16.6s finished\n",
            "[Parallel(n_jobs=16)]: Using backend LokyBackend with 16 concurrent workers.\n"
          ],
          "name": "stderr"
        },
        {
          "output_type": "stream",
          "text": [
            "beta_A: 0.494949494949495\n"
          ],
          "name": "stdout"
        },
        {
          "output_type": "stream",
          "text": [
            "[Parallel(n_jobs=16)]: Done   3 out of  10 | elapsed:    5.7s remaining:   13.2s\n",
            "[Parallel(n_jobs=16)]: Done   5 out of  10 | elapsed:    9.1s remaining:    9.1s\n",
            "[Parallel(n_jobs=16)]: Done   7 out of  10 | elapsed:   12.3s remaining:    5.3s\n",
            "[Parallel(n_jobs=16)]: Done  10 out of  10 | elapsed:   16.8s finished\n",
            "[Parallel(n_jobs=16)]: Using backend LokyBackend with 16 concurrent workers.\n"
          ],
          "name": "stderr"
        },
        {
          "output_type": "stream",
          "text": [
            "beta_A: 0.5050505050505051\n"
          ],
          "name": "stdout"
        },
        {
          "output_type": "stream",
          "text": [
            "[Parallel(n_jobs=16)]: Done   3 out of  10 | elapsed:    6.5s remaining:   15.1s\n",
            "[Parallel(n_jobs=16)]: Done   5 out of  10 | elapsed:    9.9s remaining:    9.9s\n",
            "[Parallel(n_jobs=16)]: Done   7 out of  10 | elapsed:   13.1s remaining:    5.6s\n",
            "[Parallel(n_jobs=16)]: Done  10 out of  10 | elapsed:   17.6s finished\n",
            "[Parallel(n_jobs=16)]: Using backend LokyBackend with 16 concurrent workers.\n"
          ],
          "name": "stderr"
        },
        {
          "output_type": "stream",
          "text": [
            "beta_A: 0.5151515151515152\n"
          ],
          "name": "stdout"
        },
        {
          "output_type": "stream",
          "text": [
            "[Parallel(n_jobs=16)]: Done   3 out of  10 | elapsed:    5.6s remaining:   13.1s\n",
            "[Parallel(n_jobs=16)]: Done   5 out of  10 | elapsed:    9.0s remaining:    9.0s\n",
            "[Parallel(n_jobs=16)]: Done   7 out of  10 | elapsed:   12.2s remaining:    5.2s\n",
            "[Parallel(n_jobs=16)]: Done  10 out of  10 | elapsed:   16.6s finished\n",
            "[Parallel(n_jobs=16)]: Using backend LokyBackend with 16 concurrent workers.\n"
          ],
          "name": "stderr"
        },
        {
          "output_type": "stream",
          "text": [
            "beta_A: 0.5252525252525253\n"
          ],
          "name": "stdout"
        },
        {
          "output_type": "stream",
          "text": [
            "[Parallel(n_jobs=16)]: Done   3 out of  10 | elapsed:    5.7s remaining:   13.2s\n",
            "[Parallel(n_jobs=16)]: Done   5 out of  10 | elapsed:    8.9s remaining:    8.9s\n",
            "[Parallel(n_jobs=16)]: Done   7 out of  10 | elapsed:   12.2s remaining:    5.2s\n",
            "[Parallel(n_jobs=16)]: Done  10 out of  10 | elapsed:   16.8s finished\n",
            "[Parallel(n_jobs=16)]: Using backend LokyBackend with 16 concurrent workers.\n"
          ],
          "name": "stderr"
        },
        {
          "output_type": "stream",
          "text": [
            "beta_A: 0.5353535353535354\n"
          ],
          "name": "stdout"
        },
        {
          "output_type": "stream",
          "text": [
            "[Parallel(n_jobs=16)]: Done   3 out of  10 | elapsed:    5.7s remaining:   13.4s\n",
            "[Parallel(n_jobs=16)]: Done   5 out of  10 | elapsed:    9.0s remaining:    9.0s\n",
            "[Parallel(n_jobs=16)]: Done   7 out of  10 | elapsed:   12.3s remaining:    5.3s\n",
            "[Parallel(n_jobs=16)]: Done  10 out of  10 | elapsed:   16.8s finished\n",
            "[Parallel(n_jobs=16)]: Using backend LokyBackend with 16 concurrent workers.\n"
          ],
          "name": "stderr"
        },
        {
          "output_type": "stream",
          "text": [
            "beta_A: 0.5454545454545455\n"
          ],
          "name": "stdout"
        },
        {
          "output_type": "stream",
          "text": [
            "[Parallel(n_jobs=16)]: Done   3 out of  10 | elapsed:    5.6s remaining:   13.1s\n",
            "[Parallel(n_jobs=16)]: Done   5 out of  10 | elapsed:    8.8s remaining:    8.8s\n",
            "[Parallel(n_jobs=16)]: Done   7 out of  10 | elapsed:   12.3s remaining:    5.3s\n",
            "[Parallel(n_jobs=16)]: Done  10 out of  10 | elapsed:   16.7s finished\n",
            "[Parallel(n_jobs=16)]: Using backend LokyBackend with 16 concurrent workers.\n"
          ],
          "name": "stderr"
        },
        {
          "output_type": "stream",
          "text": [
            "beta_A: 0.5555555555555556\n"
          ],
          "name": "stdout"
        },
        {
          "output_type": "stream",
          "text": [
            "[Parallel(n_jobs=16)]: Done   3 out of  10 | elapsed:    5.5s remaining:   12.9s\n",
            "[Parallel(n_jobs=16)]: Done   5 out of  10 | elapsed:    8.9s remaining:    8.9s\n",
            "[Parallel(n_jobs=16)]: Done   7 out of  10 | elapsed:   12.3s remaining:    5.3s\n",
            "[Parallel(n_jobs=16)]: Done  10 out of  10 | elapsed:   16.6s finished\n",
            "[Parallel(n_jobs=16)]: Using backend LokyBackend with 16 concurrent workers.\n"
          ],
          "name": "stderr"
        },
        {
          "output_type": "stream",
          "text": [
            "beta_A: 0.5656565656565657\n"
          ],
          "name": "stdout"
        },
        {
          "output_type": "stream",
          "text": [
            "[Parallel(n_jobs=16)]: Done   3 out of  10 | elapsed:    5.6s remaining:   13.1s\n",
            "[Parallel(n_jobs=16)]: Done   5 out of  10 | elapsed:    9.0s remaining:    9.0s\n",
            "[Parallel(n_jobs=16)]: Done   7 out of  10 | elapsed:   12.2s remaining:    5.2s\n",
            "[Parallel(n_jobs=16)]: Done  10 out of  10 | elapsed:   16.6s finished\n",
            "[Parallel(n_jobs=16)]: Using backend LokyBackend with 16 concurrent workers.\n"
          ],
          "name": "stderr"
        },
        {
          "output_type": "stream",
          "text": [
            "beta_A: 0.5757575757575758\n"
          ],
          "name": "stdout"
        },
        {
          "output_type": "stream",
          "text": [
            "[Parallel(n_jobs=16)]: Done   3 out of  10 | elapsed:    5.6s remaining:   13.1s\n",
            "[Parallel(n_jobs=16)]: Done   5 out of  10 | elapsed:    9.0s remaining:    9.0s\n",
            "[Parallel(n_jobs=16)]: Done   7 out of  10 | elapsed:   12.2s remaining:    5.2s\n",
            "[Parallel(n_jobs=16)]: Done  10 out of  10 | elapsed:   16.6s finished\n",
            "[Parallel(n_jobs=16)]: Using backend LokyBackend with 16 concurrent workers.\n"
          ],
          "name": "stderr"
        },
        {
          "output_type": "stream",
          "text": [
            "beta_A: 0.5858585858585859\n"
          ],
          "name": "stdout"
        },
        {
          "output_type": "stream",
          "text": [
            "[Parallel(n_jobs=16)]: Done   3 out of  10 | elapsed:    5.5s remaining:   12.9s\n",
            "[Parallel(n_jobs=16)]: Done   5 out of  10 | elapsed:    8.9s remaining:    8.9s\n",
            "[Parallel(n_jobs=16)]: Done   7 out of  10 | elapsed:   12.1s remaining:    5.2s\n",
            "[Parallel(n_jobs=16)]: Done  10 out of  10 | elapsed:   16.5s finished\n",
            "[Parallel(n_jobs=16)]: Using backend LokyBackend with 16 concurrent workers.\n"
          ],
          "name": "stderr"
        },
        {
          "output_type": "stream",
          "text": [
            "beta_A: 0.595959595959596\n"
          ],
          "name": "stdout"
        },
        {
          "output_type": "stream",
          "text": [
            "[Parallel(n_jobs=16)]: Done   3 out of  10 | elapsed:    5.6s remaining:   13.0s\n",
            "[Parallel(n_jobs=16)]: Done   5 out of  10 | elapsed:    8.8s remaining:    8.8s\n",
            "[Parallel(n_jobs=16)]: Done   7 out of  10 | elapsed:   12.1s remaining:    5.2s\n",
            "[Parallel(n_jobs=16)]: Done  10 out of  10 | elapsed:   16.6s finished\n",
            "[Parallel(n_jobs=16)]: Using backend LokyBackend with 16 concurrent workers.\n"
          ],
          "name": "stderr"
        },
        {
          "output_type": "stream",
          "text": [
            "beta_A: 0.6060606060606061\n"
          ],
          "name": "stdout"
        },
        {
          "output_type": "stream",
          "text": [
            "[Parallel(n_jobs=16)]: Done   3 out of  10 | elapsed:    5.6s remaining:   13.1s\n",
            "[Parallel(n_jobs=16)]: Done   5 out of  10 | elapsed:    8.8s remaining:    8.8s\n",
            "[Parallel(n_jobs=16)]: Done   7 out of  10 | elapsed:   12.1s remaining:    5.2s\n",
            "[Parallel(n_jobs=16)]: Done  10 out of  10 | elapsed:   16.6s finished\n",
            "[Parallel(n_jobs=16)]: Using backend LokyBackend with 16 concurrent workers.\n"
          ],
          "name": "stderr"
        },
        {
          "output_type": "stream",
          "text": [
            "beta_A: 0.6161616161616162\n"
          ],
          "name": "stdout"
        },
        {
          "output_type": "stream",
          "text": [
            "[Parallel(n_jobs=16)]: Done   3 out of  10 | elapsed:    5.7s remaining:   13.2s\n",
            "[Parallel(n_jobs=16)]: Done   5 out of  10 | elapsed:    8.9s remaining:    8.9s\n",
            "[Parallel(n_jobs=16)]: Done   7 out of  10 | elapsed:   12.3s remaining:    5.3s\n",
            "[Parallel(n_jobs=16)]: Done  10 out of  10 | elapsed:   16.7s finished\n",
            "[Parallel(n_jobs=16)]: Using backend LokyBackend with 16 concurrent workers.\n"
          ],
          "name": "stderr"
        },
        {
          "output_type": "stream",
          "text": [
            "beta_A: 0.6262626262626263\n"
          ],
          "name": "stdout"
        },
        {
          "output_type": "stream",
          "text": [
            "[Parallel(n_jobs=16)]: Done   3 out of  10 | elapsed:    5.5s remaining:   12.9s\n",
            "[Parallel(n_jobs=16)]: Done   5 out of  10 | elapsed:    8.9s remaining:    8.9s\n",
            "[Parallel(n_jobs=16)]: Done   7 out of  10 | elapsed:   12.2s remaining:    5.2s\n",
            "[Parallel(n_jobs=16)]: Done  10 out of  10 | elapsed:   16.6s finished\n",
            "[Parallel(n_jobs=16)]: Using backend LokyBackend with 16 concurrent workers.\n"
          ],
          "name": "stderr"
        },
        {
          "output_type": "stream",
          "text": [
            "beta_A: 0.6363636363636365\n"
          ],
          "name": "stdout"
        },
        {
          "output_type": "stream",
          "text": [
            "[Parallel(n_jobs=16)]: Done   3 out of  10 | elapsed:    5.6s remaining:   13.1s\n",
            "[Parallel(n_jobs=16)]: Done   5 out of  10 | elapsed:    9.0s remaining:    9.0s\n",
            "[Parallel(n_jobs=16)]: Done   7 out of  10 | elapsed:   12.3s remaining:    5.3s\n",
            "[Parallel(n_jobs=16)]: Done  10 out of  10 | elapsed:   17.0s finished\n",
            "[Parallel(n_jobs=16)]: Using backend LokyBackend with 16 concurrent workers.\n"
          ],
          "name": "stderr"
        },
        {
          "output_type": "stream",
          "text": [
            "beta_A: 0.6464646464646465\n"
          ],
          "name": "stdout"
        },
        {
          "output_type": "stream",
          "text": [
            "[Parallel(n_jobs=16)]: Done   3 out of  10 | elapsed:    6.4s remaining:   15.0s\n",
            "[Parallel(n_jobs=16)]: Done   5 out of  10 | elapsed:   10.5s remaining:   10.5s\n",
            "[Parallel(n_jobs=16)]: Done   7 out of  10 | elapsed:   13.7s remaining:    5.9s\n",
            "[Parallel(n_jobs=16)]: Done  10 out of  10 | elapsed:   18.2s finished\n",
            "[Parallel(n_jobs=16)]: Using backend LokyBackend with 16 concurrent workers.\n"
          ],
          "name": "stderr"
        },
        {
          "output_type": "stream",
          "text": [
            "beta_A: 0.6565656565656566\n"
          ],
          "name": "stdout"
        },
        {
          "output_type": "stream",
          "text": [
            "[Parallel(n_jobs=16)]: Done   3 out of  10 | elapsed:    5.6s remaining:   13.1s\n",
            "[Parallel(n_jobs=16)]: Done   5 out of  10 | elapsed:    9.0s remaining:    9.0s\n",
            "[Parallel(n_jobs=16)]: Done   7 out of  10 | elapsed:   12.2s remaining:    5.2s\n",
            "[Parallel(n_jobs=16)]: Done  10 out of  10 | elapsed:   16.7s finished\n",
            "[Parallel(n_jobs=16)]: Using backend LokyBackend with 16 concurrent workers.\n"
          ],
          "name": "stderr"
        },
        {
          "output_type": "stream",
          "text": [
            "beta_A: 0.6666666666666667\n"
          ],
          "name": "stdout"
        },
        {
          "output_type": "stream",
          "text": [
            "[Parallel(n_jobs=16)]: Done   3 out of  10 | elapsed:    5.6s remaining:   13.1s\n",
            "[Parallel(n_jobs=16)]: Done   5 out of  10 | elapsed:    8.8s remaining:    8.8s\n",
            "[Parallel(n_jobs=16)]: Done   7 out of  10 | elapsed:   12.2s remaining:    5.2s\n",
            "[Parallel(n_jobs=16)]: Done  10 out of  10 | elapsed:   16.6s finished\n",
            "[Parallel(n_jobs=16)]: Using backend LokyBackend with 16 concurrent workers.\n"
          ],
          "name": "stderr"
        },
        {
          "output_type": "stream",
          "text": [
            "beta_A: 0.6767676767676768\n"
          ],
          "name": "stdout"
        },
        {
          "output_type": "stream",
          "text": [
            "[Parallel(n_jobs=16)]: Done   3 out of  10 | elapsed:    5.7s remaining:   13.2s\n",
            "[Parallel(n_jobs=16)]: Done   5 out of  10 | elapsed:    8.8s remaining:    8.8s\n",
            "[Parallel(n_jobs=16)]: Done   7 out of  10 | elapsed:   12.2s remaining:    5.2s\n",
            "[Parallel(n_jobs=16)]: Done  10 out of  10 | elapsed:   16.6s finished\n",
            "[Parallel(n_jobs=16)]: Using backend LokyBackend with 16 concurrent workers.\n"
          ],
          "name": "stderr"
        },
        {
          "output_type": "stream",
          "text": [
            "beta_A: 0.686868686868687\n"
          ],
          "name": "stdout"
        },
        {
          "output_type": "stream",
          "text": [
            "[Parallel(n_jobs=16)]: Done   3 out of  10 | elapsed:    5.7s remaining:   13.2s\n",
            "[Parallel(n_jobs=16)]: Done   5 out of  10 | elapsed:    9.1s remaining:    9.1s\n",
            "[Parallel(n_jobs=16)]: Done   7 out of  10 | elapsed:   12.8s remaining:    5.5s\n",
            "[Parallel(n_jobs=16)]: Done  10 out of  10 | elapsed:   17.1s finished\n",
            "[Parallel(n_jobs=16)]: Using backend LokyBackend with 16 concurrent workers.\n"
          ],
          "name": "stderr"
        },
        {
          "output_type": "stream",
          "text": [
            "beta_A: 0.696969696969697\n"
          ],
          "name": "stdout"
        },
        {
          "output_type": "stream",
          "text": [
            "[Parallel(n_jobs=16)]: Done   3 out of  10 | elapsed:    5.5s remaining:   12.9s\n",
            "[Parallel(n_jobs=16)]: Done   5 out of  10 | elapsed:    8.8s remaining:    8.8s\n",
            "[Parallel(n_jobs=16)]: Done   7 out of  10 | elapsed:   12.2s remaining:    5.2s\n",
            "[Parallel(n_jobs=16)]: Done  10 out of  10 | elapsed:   16.5s finished\n",
            "[Parallel(n_jobs=16)]: Using backend LokyBackend with 16 concurrent workers.\n"
          ],
          "name": "stderr"
        },
        {
          "output_type": "stream",
          "text": [
            "beta_A: 0.7070707070707072\n"
          ],
          "name": "stdout"
        },
        {
          "output_type": "stream",
          "text": [
            "[Parallel(n_jobs=16)]: Done   3 out of  10 | elapsed:    5.6s remaining:   13.1s\n",
            "[Parallel(n_jobs=16)]: Done   5 out of  10 | elapsed:    9.0s remaining:    9.0s\n",
            "[Parallel(n_jobs=16)]: Done   7 out of  10 | elapsed:   12.2s remaining:    5.2s\n",
            "[Parallel(n_jobs=16)]: Done  10 out of  10 | elapsed:   16.6s finished\n",
            "[Parallel(n_jobs=16)]: Using backend LokyBackend with 16 concurrent workers.\n"
          ],
          "name": "stderr"
        },
        {
          "output_type": "stream",
          "text": [
            "beta_A: 0.7171717171717172\n"
          ],
          "name": "stdout"
        },
        {
          "output_type": "stream",
          "text": [
            "[Parallel(n_jobs=16)]: Done   3 out of  10 | elapsed:    5.7s remaining:   13.3s\n",
            "[Parallel(n_jobs=16)]: Done   5 out of  10 | elapsed:    9.1s remaining:    9.1s\n",
            "[Parallel(n_jobs=16)]: Done   7 out of  10 | elapsed:   12.2s remaining:    5.2s\n",
            "[Parallel(n_jobs=16)]: Done  10 out of  10 | elapsed:   16.7s finished\n",
            "[Parallel(n_jobs=16)]: Using backend LokyBackend with 16 concurrent workers.\n"
          ],
          "name": "stderr"
        },
        {
          "output_type": "stream",
          "text": [
            "beta_A: 0.7272727272727273\n"
          ],
          "name": "stdout"
        },
        {
          "output_type": "stream",
          "text": [
            "[Parallel(n_jobs=16)]: Done   3 out of  10 | elapsed:    5.5s remaining:   12.9s\n",
            "[Parallel(n_jobs=16)]: Done   5 out of  10 | elapsed:    8.9s remaining:    8.9s\n",
            "[Parallel(n_jobs=16)]: Done   7 out of  10 | elapsed:   12.1s remaining:    5.2s\n",
            "[Parallel(n_jobs=16)]: Done  10 out of  10 | elapsed:   16.5s finished\n",
            "[Parallel(n_jobs=16)]: Using backend LokyBackend with 16 concurrent workers.\n"
          ],
          "name": "stderr"
        },
        {
          "output_type": "stream",
          "text": [
            "beta_A: 0.7373737373737375\n"
          ],
          "name": "stdout"
        },
        {
          "output_type": "stream",
          "text": [
            "[Parallel(n_jobs=16)]: Done   3 out of  10 | elapsed:    5.6s remaining:   13.1s\n",
            "[Parallel(n_jobs=16)]: Done   5 out of  10 | elapsed:    8.8s remaining:    8.8s\n",
            "[Parallel(n_jobs=16)]: Done   7 out of  10 | elapsed:   12.1s remaining:    5.2s\n",
            "[Parallel(n_jobs=16)]: Done  10 out of  10 | elapsed:   16.5s finished\n",
            "[Parallel(n_jobs=16)]: Using backend LokyBackend with 16 concurrent workers.\n"
          ],
          "name": "stderr"
        },
        {
          "output_type": "stream",
          "text": [
            "beta_A: 0.7474747474747475\n"
          ],
          "name": "stdout"
        },
        {
          "output_type": "stream",
          "text": [
            "[Parallel(n_jobs=16)]: Done   3 out of  10 | elapsed:    5.6s remaining:   13.0s\n",
            "[Parallel(n_jobs=16)]: Done   5 out of  10 | elapsed:    8.7s remaining:    8.7s\n",
            "[Parallel(n_jobs=16)]: Done   7 out of  10 | elapsed:   12.1s remaining:    5.2s\n",
            "[Parallel(n_jobs=16)]: Done  10 out of  10 | elapsed:   16.4s finished\n",
            "[Parallel(n_jobs=16)]: Using backend LokyBackend with 16 concurrent workers.\n"
          ],
          "name": "stderr"
        },
        {
          "output_type": "stream",
          "text": [
            "beta_A: 0.7575757575757577\n"
          ],
          "name": "stdout"
        },
        {
          "output_type": "stream",
          "text": [
            "[Parallel(n_jobs=16)]: Done   3 out of  10 | elapsed:    5.6s remaining:   13.0s\n",
            "[Parallel(n_jobs=16)]: Done   5 out of  10 | elapsed:    8.8s remaining:    8.8s\n",
            "[Parallel(n_jobs=16)]: Done   7 out of  10 | elapsed:   12.2s remaining:    5.2s\n",
            "[Parallel(n_jobs=16)]: Done  10 out of  10 | elapsed:   16.5s finished\n",
            "[Parallel(n_jobs=16)]: Using backend LokyBackend with 16 concurrent workers.\n"
          ],
          "name": "stderr"
        },
        {
          "output_type": "stream",
          "text": [
            "beta_A: 0.7676767676767677\n"
          ],
          "name": "stdout"
        },
        {
          "output_type": "stream",
          "text": [
            "[Parallel(n_jobs=16)]: Done   3 out of  10 | elapsed:    5.5s remaining:   12.9s\n",
            "[Parallel(n_jobs=16)]: Done   5 out of  10 | elapsed:    8.8s remaining:    8.8s\n",
            "[Parallel(n_jobs=16)]: Done   7 out of  10 | elapsed:   12.2s remaining:    5.2s\n",
            "[Parallel(n_jobs=16)]: Done  10 out of  10 | elapsed:   16.5s finished\n",
            "[Parallel(n_jobs=16)]: Using backend LokyBackend with 16 concurrent workers.\n"
          ],
          "name": "stderr"
        },
        {
          "output_type": "stream",
          "text": [
            "beta_A: 0.7777777777777778\n"
          ],
          "name": "stdout"
        },
        {
          "output_type": "stream",
          "text": [
            "[Parallel(n_jobs=16)]: Done   3 out of  10 | elapsed:    5.6s remaining:   13.0s\n",
            "[Parallel(n_jobs=16)]: Done   5 out of  10 | elapsed:    9.0s remaining:    9.0s\n",
            "[Parallel(n_jobs=16)]: Done   7 out of  10 | elapsed:   12.1s remaining:    5.2s\n",
            "[Parallel(n_jobs=16)]: Done  10 out of  10 | elapsed:   16.5s finished\n",
            "[Parallel(n_jobs=16)]: Using backend LokyBackend with 16 concurrent workers.\n"
          ],
          "name": "stderr"
        },
        {
          "output_type": "stream",
          "text": [
            "beta_A: 0.787878787878788\n"
          ],
          "name": "stdout"
        },
        {
          "output_type": "stream",
          "text": [
            "[Parallel(n_jobs=16)]: Done   3 out of  10 | elapsed:    5.6s remaining:   13.0s\n",
            "[Parallel(n_jobs=16)]: Done   5 out of  10 | elapsed:    8.9s remaining:    8.9s\n",
            "[Parallel(n_jobs=16)]: Done   7 out of  10 | elapsed:   12.1s remaining:    5.2s\n",
            "[Parallel(n_jobs=16)]: Done  10 out of  10 | elapsed:   16.5s finished\n",
            "[Parallel(n_jobs=16)]: Using backend LokyBackend with 16 concurrent workers.\n"
          ],
          "name": "stderr"
        },
        {
          "output_type": "stream",
          "text": [
            "beta_A: 0.797979797979798\n"
          ],
          "name": "stdout"
        },
        {
          "output_type": "stream",
          "text": [
            "[Parallel(n_jobs=16)]: Done   3 out of  10 | elapsed:    5.6s remaining:   13.0s\n",
            "[Parallel(n_jobs=16)]: Done   5 out of  10 | elapsed:    8.9s remaining:    8.9s\n",
            "[Parallel(n_jobs=16)]: Done   7 out of  10 | elapsed:   12.1s remaining:    5.2s\n",
            "[Parallel(n_jobs=16)]: Done  10 out of  10 | elapsed:   16.5s finished\n",
            "[Parallel(n_jobs=16)]: Using backend LokyBackend with 16 concurrent workers.\n"
          ],
          "name": "stderr"
        },
        {
          "output_type": "stream",
          "text": [
            "beta_A: 0.8080808080808082\n"
          ],
          "name": "stdout"
        },
        {
          "output_type": "stream",
          "text": [
            "[Parallel(n_jobs=16)]: Done   3 out of  10 | elapsed:    5.6s remaining:   13.0s\n",
            "[Parallel(n_jobs=16)]: Done   5 out of  10 | elapsed:    8.7s remaining:    8.7s\n",
            "[Parallel(n_jobs=16)]: Done   7 out of  10 | elapsed:   12.1s remaining:    5.2s\n",
            "[Parallel(n_jobs=16)]: Done  10 out of  10 | elapsed:   16.5s finished\n",
            "[Parallel(n_jobs=16)]: Using backend LokyBackend with 16 concurrent workers.\n"
          ],
          "name": "stderr"
        },
        {
          "output_type": "stream",
          "text": [
            "beta_A: 0.8181818181818182\n"
          ],
          "name": "stdout"
        },
        {
          "output_type": "stream",
          "text": [
            "[Parallel(n_jobs=16)]: Done   3 out of  10 | elapsed:    5.6s remaining:   13.0s\n",
            "[Parallel(n_jobs=16)]: Done   5 out of  10 | elapsed:    8.7s remaining:    8.7s\n",
            "[Parallel(n_jobs=16)]: Done   7 out of  10 | elapsed:   12.0s remaining:    5.1s\n",
            "[Parallel(n_jobs=16)]: Done  10 out of  10 | elapsed:   16.5s finished\n",
            "[Parallel(n_jobs=16)]: Using backend LokyBackend with 16 concurrent workers.\n"
          ],
          "name": "stderr"
        },
        {
          "output_type": "stream",
          "text": [
            "beta_A: 0.8282828282828284\n"
          ],
          "name": "stdout"
        },
        {
          "output_type": "stream",
          "text": [
            "[Parallel(n_jobs=16)]: Done   3 out of  10 | elapsed:    5.6s remaining:   13.2s\n",
            "[Parallel(n_jobs=16)]: Done   5 out of  10 | elapsed:    8.9s remaining:    8.9s\n",
            "[Parallel(n_jobs=16)]: Done   7 out of  10 | elapsed:   12.2s remaining:    5.2s\n",
            "[Parallel(n_jobs=16)]: Done  10 out of  10 | elapsed:   16.7s finished\n",
            "[Parallel(n_jobs=16)]: Using backend LokyBackend with 16 concurrent workers.\n"
          ],
          "name": "stderr"
        },
        {
          "output_type": "stream",
          "text": [
            "beta_A: 0.8383838383838385\n"
          ],
          "name": "stdout"
        },
        {
          "output_type": "stream",
          "text": [
            "[Parallel(n_jobs=16)]: Done   3 out of  10 | elapsed:    5.5s remaining:   12.9s\n",
            "[Parallel(n_jobs=16)]: Done   5 out of  10 | elapsed:    8.8s remaining:    8.8s\n",
            "[Parallel(n_jobs=16)]: Done   7 out of  10 | elapsed:   12.1s remaining:    5.2s\n",
            "[Parallel(n_jobs=16)]: Done  10 out of  10 | elapsed:   16.4s finished\n",
            "[Parallel(n_jobs=16)]: Using backend LokyBackend with 16 concurrent workers.\n"
          ],
          "name": "stderr"
        },
        {
          "output_type": "stream",
          "text": [
            "beta_A: 0.8484848484848485\n"
          ],
          "name": "stdout"
        },
        {
          "output_type": "stream",
          "text": [
            "[Parallel(n_jobs=16)]: Done   3 out of  10 | elapsed:    5.5s remaining:   12.9s\n",
            "[Parallel(n_jobs=16)]: Done   5 out of  10 | elapsed:    8.9s remaining:    8.9s\n",
            "[Parallel(n_jobs=16)]: Done   7 out of  10 | elapsed:   12.1s remaining:    5.2s\n",
            "[Parallel(n_jobs=16)]: Done  10 out of  10 | elapsed:   16.5s finished\n",
            "[Parallel(n_jobs=16)]: Using backend LokyBackend with 16 concurrent workers.\n"
          ],
          "name": "stderr"
        },
        {
          "output_type": "stream",
          "text": [
            "beta_A: 0.8585858585858587\n"
          ],
          "name": "stdout"
        },
        {
          "output_type": "stream",
          "text": [
            "[Parallel(n_jobs=16)]: Done   3 out of  10 | elapsed:    5.5s remaining:   12.9s\n",
            "[Parallel(n_jobs=16)]: Done   5 out of  10 | elapsed:    8.9s remaining:    8.9s\n",
            "[Parallel(n_jobs=16)]: Done   7 out of  10 | elapsed:   12.0s remaining:    5.1s\n",
            "[Parallel(n_jobs=16)]: Done  10 out of  10 | elapsed:   16.4s finished\n",
            "[Parallel(n_jobs=16)]: Using backend LokyBackend with 16 concurrent workers.\n"
          ],
          "name": "stderr"
        },
        {
          "output_type": "stream",
          "text": [
            "beta_A: 0.8686868686868687\n"
          ],
          "name": "stdout"
        },
        {
          "output_type": "stream",
          "text": [
            "[Parallel(n_jobs=16)]: Done   3 out of  10 | elapsed:    5.5s remaining:   12.9s\n",
            "[Parallel(n_jobs=16)]: Done   5 out of  10 | elapsed:    8.8s remaining:    8.8s\n",
            "[Parallel(n_jobs=16)]: Done   7 out of  10 | elapsed:   12.0s remaining:    5.1s\n",
            "[Parallel(n_jobs=16)]: Done  10 out of  10 | elapsed:   16.5s finished\n",
            "[Parallel(n_jobs=16)]: Using backend LokyBackend with 16 concurrent workers.\n"
          ],
          "name": "stderr"
        },
        {
          "output_type": "stream",
          "text": [
            "beta_A: 0.8787878787878789\n"
          ],
          "name": "stdout"
        },
        {
          "output_type": "stream",
          "text": [
            "[Parallel(n_jobs=16)]: Done   3 out of  10 | elapsed:    5.6s remaining:   13.0s\n",
            "[Parallel(n_jobs=16)]: Done   5 out of  10 | elapsed:    8.7s remaining:    8.7s\n",
            "[Parallel(n_jobs=16)]: Done   7 out of  10 | elapsed:   12.0s remaining:    5.2s\n",
            "[Parallel(n_jobs=16)]: Done  10 out of  10 | elapsed:   16.5s finished\n",
            "[Parallel(n_jobs=16)]: Using backend LokyBackend with 16 concurrent workers.\n"
          ],
          "name": "stderr"
        },
        {
          "output_type": "stream",
          "text": [
            "beta_A: 0.888888888888889\n"
          ],
          "name": "stdout"
        },
        {
          "output_type": "stream",
          "text": [
            "[Parallel(n_jobs=16)]: Done   3 out of  10 | elapsed:    5.5s remaining:   12.9s\n",
            "[Parallel(n_jobs=16)]: Done   5 out of  10 | elapsed:    8.7s remaining:    8.7s\n",
            "[Parallel(n_jobs=16)]: Done   7 out of  10 | elapsed:   11.9s remaining:    5.1s\n",
            "[Parallel(n_jobs=16)]: Done  10 out of  10 | elapsed:   16.3s finished\n",
            "[Parallel(n_jobs=16)]: Using backend LokyBackend with 16 concurrent workers.\n"
          ],
          "name": "stderr"
        },
        {
          "output_type": "stream",
          "text": [
            "beta_A: 0.8989898989898991\n"
          ],
          "name": "stdout"
        },
        {
          "output_type": "stream",
          "text": [
            "[Parallel(n_jobs=16)]: Done   3 out of  10 | elapsed:    5.6s remaining:   13.0s\n",
            "[Parallel(n_jobs=16)]: Done   7 out of  10 | elapsed:   12.2s remaining:    5.2s\n",
            "[Parallel(n_jobs=16)]: Done  10 out of  10 | elapsed:   16.6s finished\n",
            "[Parallel(n_jobs=16)]: Using backend LokyBackend with 16 concurrent workers.\n"
          ],
          "name": "stderr"
        },
        {
          "output_type": "stream",
          "text": [
            "beta_A: 0.9090909090909092\n"
          ],
          "name": "stdout"
        },
        {
          "output_type": "stream",
          "text": [
            "[Parallel(n_jobs=16)]: Done   3 out of  10 | elapsed:    5.5s remaining:   12.9s\n",
            "[Parallel(n_jobs=16)]: Done   5 out of  10 | elapsed:    8.8s remaining:    8.8s\n",
            "[Parallel(n_jobs=16)]: Done   7 out of  10 | elapsed:   12.1s remaining:    5.2s\n",
            "[Parallel(n_jobs=16)]: Done  10 out of  10 | elapsed:   16.4s finished\n",
            "[Parallel(n_jobs=16)]: Using backend LokyBackend with 16 concurrent workers.\n"
          ],
          "name": "stderr"
        },
        {
          "output_type": "stream",
          "text": [
            "beta_A: 0.9191919191919192\n"
          ],
          "name": "stdout"
        },
        {
          "output_type": "stream",
          "text": [
            "[Parallel(n_jobs=16)]: Done   3 out of  10 | elapsed:    5.6s remaining:   13.0s\n",
            "[Parallel(n_jobs=16)]: Done   5 out of  10 | elapsed:    8.8s remaining:    8.8s\n",
            "[Parallel(n_jobs=16)]: Done   7 out of  10 | elapsed:   12.0s remaining:    5.1s\n",
            "[Parallel(n_jobs=16)]: Done  10 out of  10 | elapsed:   16.4s finished\n",
            "[Parallel(n_jobs=16)]: Using backend LokyBackend with 16 concurrent workers.\n"
          ],
          "name": "stderr"
        },
        {
          "output_type": "stream",
          "text": [
            "beta_A: 0.9292929292929294\n"
          ],
          "name": "stdout"
        },
        {
          "output_type": "stream",
          "text": [
            "[Parallel(n_jobs=16)]: Done   3 out of  10 | elapsed:    5.6s remaining:   13.0s\n",
            "[Parallel(n_jobs=16)]: Done   5 out of  10 | elapsed:    8.9s remaining:    8.9s\n",
            "[Parallel(n_jobs=16)]: Done   7 out of  10 | elapsed:   12.1s remaining:    5.2s\n",
            "[Parallel(n_jobs=16)]: Done  10 out of  10 | elapsed:   16.5s finished\n",
            "[Parallel(n_jobs=16)]: Using backend LokyBackend with 16 concurrent workers.\n"
          ],
          "name": "stderr"
        },
        {
          "output_type": "stream",
          "text": [
            "beta_A: 0.9393939393939394\n"
          ],
          "name": "stdout"
        },
        {
          "output_type": "stream",
          "text": [
            "[Parallel(n_jobs=16)]: Done   3 out of  10 | elapsed:    5.6s remaining:   13.0s\n",
            "[Parallel(n_jobs=16)]: Done   5 out of  10 | elapsed:    8.9s remaining:    8.9s\n",
            "[Parallel(n_jobs=16)]: Done   7 out of  10 | elapsed:   12.1s remaining:    5.2s\n",
            "[Parallel(n_jobs=16)]: Done  10 out of  10 | elapsed:   16.5s finished\n",
            "[Parallel(n_jobs=16)]: Using backend LokyBackend with 16 concurrent workers.\n"
          ],
          "name": "stderr"
        },
        {
          "output_type": "stream",
          "text": [
            "beta_A: 0.9494949494949496\n"
          ],
          "name": "stdout"
        },
        {
          "output_type": "stream",
          "text": [
            "[Parallel(n_jobs=16)]: Done   3 out of  10 | elapsed:    5.6s remaining:   13.1s\n",
            "[Parallel(n_jobs=16)]: Done   5 out of  10 | elapsed:    8.8s remaining:    8.8s\n",
            "[Parallel(n_jobs=16)]: Done   7 out of  10 | elapsed:   12.1s remaining:    5.2s\n",
            "[Parallel(n_jobs=16)]: Done  10 out of  10 | elapsed:   16.5s finished\n",
            "[Parallel(n_jobs=16)]: Using backend LokyBackend with 16 concurrent workers.\n"
          ],
          "name": "stderr"
        },
        {
          "output_type": "stream",
          "text": [
            "beta_A: 0.9595959595959597\n"
          ],
          "name": "stdout"
        },
        {
          "output_type": "stream",
          "text": [
            "[Parallel(n_jobs=16)]: Done   3 out of  10 | elapsed:    5.6s remaining:   13.0s\n",
            "[Parallel(n_jobs=16)]: Done   5 out of  10 | elapsed:    8.7s remaining:    8.7s\n",
            "[Parallel(n_jobs=16)]: Done   7 out of  10 | elapsed:   12.0s remaining:    5.2s\n",
            "[Parallel(n_jobs=16)]: Done  10 out of  10 | elapsed:   16.4s finished\n",
            "[Parallel(n_jobs=16)]: Using backend LokyBackend with 16 concurrent workers.\n"
          ],
          "name": "stderr"
        },
        {
          "output_type": "stream",
          "text": [
            "beta_A: 0.9696969696969697\n"
          ],
          "name": "stdout"
        },
        {
          "output_type": "stream",
          "text": [
            "[Parallel(n_jobs=16)]: Done   3 out of  10 | elapsed:    5.5s remaining:   12.9s\n",
            "[Parallel(n_jobs=16)]: Done   5 out of  10 | elapsed:    8.7s remaining:    8.7s\n",
            "[Parallel(n_jobs=16)]: Done   7 out of  10 | elapsed:   12.0s remaining:    5.1s\n",
            "[Parallel(n_jobs=16)]: Done  10 out of  10 | elapsed:   16.3s finished\n",
            "[Parallel(n_jobs=16)]: Using backend LokyBackend with 16 concurrent workers.\n"
          ],
          "name": "stderr"
        },
        {
          "output_type": "stream",
          "text": [
            "beta_A: 0.9797979797979799\n"
          ],
          "name": "stdout"
        },
        {
          "output_type": "stream",
          "text": [
            "[Parallel(n_jobs=16)]: Done   3 out of  10 | elapsed:    5.4s remaining:   12.6s\n",
            "[Parallel(n_jobs=16)]: Done   5 out of  10 | elapsed:    8.7s remaining:    8.7s\n",
            "[Parallel(n_jobs=16)]: Done   7 out of  10 | elapsed:   12.0s remaining:    5.1s\n",
            "[Parallel(n_jobs=16)]: Done  10 out of  10 | elapsed:   16.2s finished\n",
            "[Parallel(n_jobs=16)]: Using backend LokyBackend with 16 concurrent workers.\n"
          ],
          "name": "stderr"
        },
        {
          "output_type": "stream",
          "text": [
            "beta_A: 0.98989898989899\n"
          ],
          "name": "stdout"
        },
        {
          "output_type": "stream",
          "text": [
            "[Parallel(n_jobs=16)]: Done   3 out of  10 | elapsed:    5.6s remaining:   13.0s\n",
            "[Parallel(n_jobs=16)]: Done   5 out of  10 | elapsed:    8.9s remaining:    8.9s\n",
            "[Parallel(n_jobs=16)]: Done   7 out of  10 | elapsed:   12.1s remaining:    5.2s\n",
            "[Parallel(n_jobs=16)]: Done  10 out of  10 | elapsed:   16.5s finished\n",
            "[Parallel(n_jobs=16)]: Using backend LokyBackend with 16 concurrent workers.\n"
          ],
          "name": "stderr"
        },
        {
          "output_type": "stream",
          "text": [
            "beta_A: 1.0\n"
          ],
          "name": "stdout"
        },
        {
          "output_type": "stream",
          "text": [
            "[Parallel(n_jobs=16)]: Done   3 out of  10 | elapsed:    5.6s remaining:   13.0s\n",
            "[Parallel(n_jobs=16)]: Done   5 out of  10 | elapsed:    8.8s remaining:    8.8s\n",
            "[Parallel(n_jobs=16)]: Done   7 out of  10 | elapsed:   12.0s remaining:    5.1s\n",
            "[Parallel(n_jobs=16)]: Done  10 out of  10 | elapsed:   16.4s finished\n"
          ],
          "name": "stderr"
        }
      ]
    },
    {
      "cell_type": "code",
      "metadata": {
        "colab": {
          "base_uri": "https://localhost:8080/",
          "height": 265
        },
        "id": "_oJBIPgaZhkF",
        "outputId": "e48152f2-097c-412d-c9d2-db7efca959ac"
      },
      "source": [
        "plt.plot(betaA, RA_mean)\n",
        "plt.show()"
      ],
      "execution_count": 56,
      "outputs": [
        {
          "output_type": "display_data",
          "data": {
            "image/png": "[encoded data removed]",
            "text/plain": [
              "<Figure size 432x288 with 1 Axes>"
            ]
          },
          "metadata": {
            "tags": [],
            "needs_background": "light"
          }
        }
      ]
    },
    {
      "cell_type": "code",
      "metadata": {
        "colab": {
          "base_uri": "https://localhost:8080/",
          "height": 265
        },
        "id": "2sqiONYohAxq",
        "outputId": "2e7e0858-5f9b-430c-9581-3c79df54ed6e"
      },
      "source": [
        "plt.plot(betaA, RB_mean)\n",
        "plt.show()"
      ],
      "execution_count": 57,
      "outputs": [
        {
          "output_type": "display_data",
          "data": {
            "image/png": "[encoded data removed]",
            "text/plain": [
              "<Figure size 432x288 with 1 Axes>"
            ]
          },
          "metadata": {
            "tags": [],
            "needs_background": "light"
          }
        }
      ]
    },
    {
      "cell_type": "code",
      "metadata": {
        "id": "6TdeUjW1APJa"
      },
      "source": [
        "rows = zip(betaA, RA_mean, RB_mean, VB_mean) \n",
        "\n",
        "import csv\n",
        "\n",
        "with open(\"results_betaA.csv\", \"w\") as f:\n",
        "    writer = csv.writer(f)\n",
        "    for row in rows:\n",
        "        writer.writerow(row)"
      ],
      "execution_count": 55,
      "outputs": []
    },
    {
      "cell_type": "code",
      "metadata": {
        "colab": {
          "base_uri": "https://localhost:8080/",
          "height": 419
        },
        "id": "LWTr1MuWzMPf",
        "outputId": "12829a8c-47ba-4a59-aed4-be398acda8e0"
      },
      "source": [
        "df = pd.read_csv(\"results_betaA.csv\", header=None)\n",
        "df.columns=[\"betaA\", \"RAA\", \"RBA\", \"VBA\"] \n",
        "df"
      ],
      "execution_count": 61,
      "outputs": [
        {
          "output_type": "execute_result",
          "data": {
            "text/html": [
              "<div>\n",
              "<style scoped>\n",
              "    .dataframe tbody tr th:only-of-type {\n",
              "        vertical-align: middle;\n",
              "    }\n",
              "\n",
              "    .dataframe tbody tr th {\n",
              "        vertical-align: top;\n",
              "    }\n",
              "\n",
              "    .dataframe thead th {\n",
              "        text-align: right;\n",
              "    }\n",
              "</style>\n",
              "<table border=\"1\" class=\"dataframe\">\n",
              "  <thead>\n",
              "    <tr style=\"text-align: right;\">\n",
              "      <th></th>\n",
              "      <th>betaA</th>\n",
              "      <th>RAA</th>\n",
              "      <th>RBA</th>\n",
              "      <th>VBA</th>\n",
              "    </tr>\n",
              "  </thead>\n",
              "  <tbody>\n",
              "    <tr>\n",
              "      <th>0</th>\n",
              "      <td>0.000000</td>\n",
              "      <td>0.97972</td>\n",
              "      <td>0.97972</td>\n",
              "      <td>0.00000</td>\n",
              "    </tr>\n",
              "    <tr>\n",
              "      <th>1</th>\n",
              "      <td>0.010101</td>\n",
              "      <td>0.98193</td>\n",
              "      <td>0.97919</td>\n",
              "      <td>0.00138</td>\n",
              "    </tr>\n",
              "    <tr>\n",
              "      <th>2</th>\n",
              "      <td>0.020202</td>\n",
              "      <td>0.98322</td>\n",
              "      <td>0.97775</td>\n",
              "      <td>0.00266</td>\n",
              "    </tr>\n",
              "    <tr>\n",
              "      <th>3</th>\n",
              "      <td>0.030303</td>\n",
              "      <td>0.98406</td>\n",
              "      <td>0.97605</td>\n",
              "      <td>0.00379</td>\n",
              "    </tr>\n",
              "    <tr>\n",
              "      <th>4</th>\n",
              "      <td>0.040404</td>\n",
              "      <td>0.98577</td>\n",
              "      <td>0.97536</td>\n",
              "      <td>0.00533</td>\n",
              "    </tr>\n",
              "    <tr>\n",
              "      <th>...</th>\n",
              "      <td>...</td>\n",
              "      <td>...</td>\n",
              "      <td>...</td>\n",
              "      <td>...</td>\n",
              "    </tr>\n",
              "    <tr>\n",
              "      <th>95</th>\n",
              "      <td>0.959596</td>\n",
              "      <td>1.00000</td>\n",
              "      <td>0.89841</td>\n",
              "      <td>0.07543</td>\n",
              "    </tr>\n",
              "    <tr>\n",
              "      <th>96</th>\n",
              "      <td>0.969697</td>\n",
              "      <td>1.00000</td>\n",
              "      <td>0.89177</td>\n",
              "      <td>0.08049</td>\n",
              "    </tr>\n",
              "    <tr>\n",
              "      <th>97</th>\n",
              "      <td>0.979798</td>\n",
              "      <td>1.00000</td>\n",
              "      <td>0.90314</td>\n",
              "      <td>0.07099</td>\n",
              "    </tr>\n",
              "    <tr>\n",
              "      <th>98</th>\n",
              "      <td>0.989899</td>\n",
              "      <td>1.00000</td>\n",
              "      <td>0.90584</td>\n",
              "      <td>0.06834</td>\n",
              "    </tr>\n",
              "    <tr>\n",
              "      <th>99</th>\n",
              "      <td>1.000000</td>\n",
              "      <td>1.00000</td>\n",
              "      <td>0.90708</td>\n",
              "      <td>0.06685</td>\n",
              "    </tr>\n",
              "  </tbody>\n",
              "</table>\n",
              "<p>100 rows × 4 columns</p>\n",
              "</div>"
            ],
            "text/plain": [
              "       betaA      RAA      RBA      VBA\n",
              "0   0.000000  0.97972  0.97972  0.00000\n",
              "1   0.010101  0.98193  0.97919  0.00138\n",
              "2   0.020202  0.98322  0.97775  0.00266\n",
              "3   0.030303  0.98406  0.97605  0.00379\n",
              "4   0.040404  0.98577  0.97536  0.00533\n",
              "..       ...      ...      ...      ...\n",
              "95  0.959596  1.00000  0.89841  0.07543\n",
              "96  0.969697  1.00000  0.89177  0.08049\n",
              "97  0.979798  1.00000  0.90314  0.07099\n",
              "98  0.989899  1.00000  0.90584  0.06834\n",
              "99  1.000000  1.00000  0.90708  0.06685\n",
              "\n",
              "[100 rows x 4 columns]"
            ]
          },
          "metadata": {
            "tags": []
          },
          "execution_count": 61
        }
      ]
    },
    {
      "cell_type": "code",
      "metadata": {
        "colab": {
          "base_uri": "https://localhost:8080/",
          "height": 610
        },
        "id": "jd2nhJNZzhSH",
        "outputId": "f8dc40d2-4594-44e3-f17b-f5353dfe7c0f"
      },
      "source": [
        "plot_beta(df[\"betaA\"], df[\"betaA\"], df[\"RAA\"], df[\"RBA\"], df[\"VBA\"], df[\"RAA\"], df[\"RBA\"], df[\"VBA\"]) # USATO DUE VOLTE GLI STESSI VALORI!"
      ],
      "execution_count": 72,
      "outputs": [
        {
          "output_type": "display_data",
          "data": {
            "image/png": "[encoded data removed]",
            "text/plain": [
              "<Figure size 720x720 with 6 Axes>"
            ]
          },
          "metadata": {
            "tags": [],
            "needs_background": "light"
          }
        }
      ]
    }
  ]
}