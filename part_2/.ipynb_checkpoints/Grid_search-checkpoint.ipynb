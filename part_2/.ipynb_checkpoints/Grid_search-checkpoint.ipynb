{
 "cells": [
  {
   "cell_type": "code",
   "execution_count": 1,
   "metadata": {},
   "outputs": [],
   "source": [
    "import pandas as pd\n",
    "import matplotlib.pyplot as plt\n",
    "import random\n",
    "import networkx as nx\n",
    "import numpy as np \n",
    "from joblib import Parallel, delayed\n",
    "import csv\n",
    "import os "
   ]
  },
  {
   "cell_type": "code",
   "execution_count": 2,
   "metadata": {},
   "outputs": [],
   "source": [
    "def cmm(N,pYY,pOO,pYO,prop_Y):\n",
    "\n",
    "    label_Y = [i for i in range(int(N*prop_Y))]\n",
    "    label_O = [int(N*prop_Y)+i for i in range(int(N*(1-prop_Y))+1)]\n",
    "\n",
    "    G = nx.Graph() \n",
    "    G.add_nodes_from(label_Y)\n",
    "    G.add_nodes_from(label_O)\n",
    "    \n",
    "    kYY = 0\n",
    "    kOO = 0\n",
    "    kYO = 0\n",
    "    \n",
    "    node_labels = G.nodes()\n",
    "    edges = set()\n",
    "    \n",
    "    for i in range(N): \n",
    "        for j in range(N): \n",
    "            if i != j:               \n",
    "                if ((i <= int(N*prop_Y)) and (j <= int(N*prop_Y))):\n",
    "                    if random.random() < pYY:  \n",
    "                        edges.add((i,j))\n",
    "                        kYY += 1\n",
    "                if ((i > int(N*prop_Y)) and (j > int(N*prop_Y))):\n",
    "                    if random.random() < pOO:                \n",
    "                        edges.add((i,j))\n",
    "                        kOO += 1\n",
    "                if (((i <= int(N*prop_Y)) and (j > int(N*prop_Y))) or ((i > int(N*prop_Y)) and (j <= int(N*prop_Y)))):\n",
    "                    if random.random() < pYO:                \n",
    "                        edges.add((i,j))\n",
    "                        kYO += 1          \n",
    "                        \n",
    "    norm = kYY + kOO + kYO\n",
    "\n",
    "    G.add_edges_from(edges)\n",
    "    \n",
    "    return G, kYY/norm, kOO/norm, kYO/norm"
   ]
  },
  {
   "cell_type": "code",
   "execution_count": 3,
   "metadata": {},
   "outputs": [],
   "source": [
    "def mean_degree_YO(G, prop_Y):\n",
    "    kY = 0\n",
    "    kO = 0\n",
    "    N = G.number_of_nodes()\n",
    "    \n",
    "    for i in range(int(N*prop_Y)):\n",
    "        kY += G.degree[i]\n",
    "\n",
    "    for i in range(int(N*prop_Y),N): \n",
    "        kO += G.degree[i]\n",
    "        \n",
    "    kY_mean = kY/int(N*prop_Y)\n",
    "    kO_mean = kO/int(N*(1-prop_Y))\n",
    "    \n",
    "    return kY_mean, kO_mean"
   ]
  },
  {
   "cell_type": "code",
   "execution_count": 14,
   "metadata": {},
   "outputs": [
    {
     "name": "stdout",
     "output_type": "stream",
     "text": [
      "0\n",
      "1\n"
     ]
    },
    {
     "ename": "KeyboardInterrupt",
     "evalue": "",
     "output_type": "error",
     "traceback": [
      "\u001b[0;31m---------------------------------------------------------------------------\u001b[0m",
      "\u001b[0;31mKeyboardInterrupt\u001b[0m                         Traceback (most recent call last)",
      "\u001b[0;32m<ipython-input-14-bebbceb65cf0>\u001b[0m in \u001b[0;36m<module>\u001b[0;34m\u001b[0m\n\u001b[1;32m     10\u001b[0m     \u001b[0;32mfor\u001b[0m \u001b[0mj\u001b[0m \u001b[0;32min\u001b[0m \u001b[0mpOO\u001b[0m\u001b[0;34m:\u001b[0m\u001b[0;34m\u001b[0m\u001b[0;34m\u001b[0m\u001b[0m\n\u001b[1;32m     11\u001b[0m         \u001b[0;32mfor\u001b[0m \u001b[0mk\u001b[0m \u001b[0;32min\u001b[0m \u001b[0mpYO\u001b[0m\u001b[0;34m:\u001b[0m\u001b[0;34m\u001b[0m\u001b[0;34m\u001b[0m\u001b[0m\n\u001b[0;32m---> 12\u001b[0;31m             \u001b[0mG\u001b[0m\u001b[0;34m,\u001b[0m \u001b[0mfrac_YY\u001b[0m\u001b[0;34m,\u001b[0m \u001b[0mfrac_OO\u001b[0m\u001b[0;34m,\u001b[0m \u001b[0mfrac_YO\u001b[0m \u001b[0;34m=\u001b[0m \u001b[0mcmm\u001b[0m\u001b[0;34m(\u001b[0m\u001b[0mN\u001b[0m\u001b[0;34m,\u001b[0m\u001b[0mi\u001b[0m\u001b[0;34m,\u001b[0m\u001b[0mj\u001b[0m\u001b[0;34m,\u001b[0m\u001b[0mk\u001b[0m\u001b[0;34m,\u001b[0m\u001b[0mprop_Y\u001b[0m\u001b[0;34m)\u001b[0m\u001b[0;34m\u001b[0m\u001b[0;34m\u001b[0m\u001b[0m\n\u001b[0m\u001b[1;32m     13\u001b[0m             \u001b[0mkY_mean\u001b[0m\u001b[0;34m,\u001b[0m \u001b[0mkO_mean\u001b[0m \u001b[0;34m=\u001b[0m \u001b[0mmean_degree_YO\u001b[0m\u001b[0;34m(\u001b[0m\u001b[0mG\u001b[0m\u001b[0;34m,\u001b[0m \u001b[0mprop_Y\u001b[0m\u001b[0;34m)\u001b[0m\u001b[0;34m\u001b[0m\u001b[0;34m\u001b[0m\u001b[0m\n\u001b[1;32m     14\u001b[0m             \u001b[0mk_mean\u001b[0m \u001b[0;34m=\u001b[0m \u001b[0mkY_mean\u001b[0m\u001b[0;34m*\u001b[0m\u001b[0mprop_Y\u001b[0m \u001b[0;34m+\u001b[0m \u001b[0mkO_mean\u001b[0m\u001b[0;34m*\u001b[0m\u001b[0;34m(\u001b[0m\u001b[0;36m1\u001b[0m\u001b[0;34m-\u001b[0m\u001b[0mprop_Y\u001b[0m\u001b[0;34m)\u001b[0m\u001b[0;34m\u001b[0m\u001b[0;34m\u001b[0m\u001b[0m\n",
      "\u001b[0;32m<ipython-input-2-45324a0dd73c>\u001b[0m in \u001b[0;36mcmm\u001b[0;34m(N, pYY, pOO, pYO, prop_Y)\u001b[0m\n\u001b[1;32m     26\u001b[0m                         \u001b[0medges\u001b[0m\u001b[0;34m.\u001b[0m\u001b[0madd\u001b[0m\u001b[0;34m(\u001b[0m\u001b[0;34m(\u001b[0m\u001b[0mi\u001b[0m\u001b[0;34m,\u001b[0m\u001b[0mj\u001b[0m\u001b[0;34m)\u001b[0m\u001b[0;34m)\u001b[0m\u001b[0;34m\u001b[0m\u001b[0;34m\u001b[0m\u001b[0m\n\u001b[1;32m     27\u001b[0m                         \u001b[0mkOO\u001b[0m \u001b[0;34m+=\u001b[0m \u001b[0;36m1\u001b[0m\u001b[0;34m\u001b[0m\u001b[0;34m\u001b[0m\u001b[0m\n\u001b[0;32m---> 28\u001b[0;31m                 \u001b[0;32mif\u001b[0m \u001b[0;34m(\u001b[0m\u001b[0;34m(\u001b[0m\u001b[0;34m(\u001b[0m\u001b[0mi\u001b[0m \u001b[0;34m<=\u001b[0m \u001b[0mint\u001b[0m\u001b[0;34m(\u001b[0m\u001b[0mN\u001b[0m\u001b[0;34m*\u001b[0m\u001b[0mprop_Y\u001b[0m\u001b[0;34m)\u001b[0m\u001b[0;34m)\u001b[0m \u001b[0;32mand\u001b[0m \u001b[0;34m(\u001b[0m\u001b[0mj\u001b[0m \u001b[0;34m>\u001b[0m \u001b[0mint\u001b[0m\u001b[0;34m(\u001b[0m\u001b[0mN\u001b[0m\u001b[0;34m*\u001b[0m\u001b[0mprop_Y\u001b[0m\u001b[0;34m)\u001b[0m\u001b[0;34m)\u001b[0m\u001b[0;34m)\u001b[0m \u001b[0;32mor\u001b[0m \u001b[0;34m(\u001b[0m\u001b[0;34m(\u001b[0m\u001b[0mi\u001b[0m \u001b[0;34m>\u001b[0m \u001b[0mint\u001b[0m\u001b[0;34m(\u001b[0m\u001b[0mN\u001b[0m\u001b[0;34m*\u001b[0m\u001b[0mprop_Y\u001b[0m\u001b[0;34m)\u001b[0m\u001b[0;34m)\u001b[0m \u001b[0;32mand\u001b[0m \u001b[0;34m(\u001b[0m\u001b[0mj\u001b[0m \u001b[0;34m<=\u001b[0m \u001b[0mint\u001b[0m\u001b[0;34m(\u001b[0m\u001b[0mN\u001b[0m\u001b[0;34m*\u001b[0m\u001b[0mprop_Y\u001b[0m\u001b[0;34m)\u001b[0m\u001b[0;34m)\u001b[0m\u001b[0;34m)\u001b[0m\u001b[0;34m)\u001b[0m\u001b[0;34m:\u001b[0m\u001b[0;34m\u001b[0m\u001b[0;34m\u001b[0m\u001b[0m\n\u001b[0m\u001b[1;32m     29\u001b[0m                     \u001b[0;32mif\u001b[0m \u001b[0mrandom\u001b[0m\u001b[0;34m.\u001b[0m\u001b[0mrandom\u001b[0m\u001b[0;34m(\u001b[0m\u001b[0;34m)\u001b[0m \u001b[0;34m<\u001b[0m \u001b[0mpYO\u001b[0m\u001b[0;34m:\u001b[0m\u001b[0;34m\u001b[0m\u001b[0;34m\u001b[0m\u001b[0m\n\u001b[1;32m     30\u001b[0m                         \u001b[0medges\u001b[0m\u001b[0;34m.\u001b[0m\u001b[0madd\u001b[0m\u001b[0;34m(\u001b[0m\u001b[0;34m(\u001b[0m\u001b[0mi\u001b[0m\u001b[0;34m,\u001b[0m\u001b[0mj\u001b[0m\u001b[0;34m)\u001b[0m\u001b[0;34m)\u001b[0m\u001b[0;34m\u001b[0m\u001b[0;34m\u001b[0m\u001b[0m\n",
      "\u001b[0;31mKeyboardInterrupt\u001b[0m: "
     ]
    }
   ],
   "source": [
    "pYY = np.linspace(0.0054, 0.0071, 20)\n",
    "pOO = np.linspace(0.0025, 0.0045, 20)\n",
    "pYO = np.linspace(0.0011, 0.0018, 20)\n",
    "prop_Y = 0.55\n",
    "N = 1000\n",
    "count = 0\n",
    "for i in pYY:\n",
    "    print(count)\n",
    "    count += 1\n",
    "    for j in pOO:\n",
    "        for k in pYO:\n",
    "            G, frac_YY, frac_OO, frac_YO = cmm(N,i,j,k,prop_Y)\n",
    "            kY_mean, kO_mean = mean_degree_YO(G, prop_Y)\n",
    "            k_mean = kY_mean*prop_Y + kO_mean*(1-prop_Y)\n",
    "            if ((abs(frac_YY-0.57) < 0.01 ) and (abs(frac_YO-0.22) < 0.01 ) and (abs(frac_OO-0.21) < 0.01 ) and (abs(8-k_mean) < 0.25 )):\n",
    "                print(i, j, k, \"YY\",frac_YY,  \"OO\",frac_OO,  \"YO\",frac_YO,\"KY\", kY_mean, \"KO\", kO_mean, \"K\", k_mean)"
   ]
  },
  {
   "cell_type": "code",
   "execution_count": null,
   "metadata": {},
   "outputs": [],
   "source": []
  }
 ],
 "metadata": {
  "kernelspec": {
   "display_name": "Python 3",
   "language": "python",
   "name": "python3"
  },
  "language_info": {
   "codemirror_mode": {
    "name": "ipython",
    "version": 3
   },
   "file_extension": ".py",
   "mimetype": "text/x-python",
   "name": "python",
   "nbconvert_exporter": "python",
   "pygments_lexer": "ipython3",
   "version": "3.7.6"
  }
 },
 "nbformat": 4,
 "nbformat_minor": 4
}
